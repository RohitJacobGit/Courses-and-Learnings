{
 "cells": [
  {
   "cell_type": "code",
   "execution_count": 15,
   "metadata": {},
   "outputs": [],
   "source": [
    "class Vector(object):\n",
    "    def __init__(self, coordinates):\n",
    "        try:\n",
    "            if not coordinates:\n",
    "                raise ValueError\n",
    "            self.coordinates = tuple(coordinates)\n",
    "            self.dimension = len(coordinates) # create new object named dimension    \n",
    "        except ValueError:\n",
    "            raise ValueError('The coordinates must be non-empty')\n",
    "        except TypeError:\n",
    "            raise TypeError('The coordinates must be iterable')\n",
    "        \n",
    "    def __str__(self): # class object similar to toString() similar to JAVA class object which we override\n",
    "        return 'Vector : {0}, Dimension: {1}'.format(self.coordinates,self.dimension)\n",
    "    \n",
    "    def __eq__(self, v): # class object similar to equals() in JAVA class object which we override\n",
    "        return self.coordinates == v.coordinates "
   ]
  },
  {
   "cell_type": "code",
   "execution_count": 16,
   "metadata": {},
   "outputs": [
    {
     "name": "stdout",
     "output_type": "stream",
     "text": [
      "Vector : (1, 2, 3), Dimension: 3\n"
     ]
    }
   ],
   "source": [
    "vector_a = Vector([1,2,3])\n",
    "vector_a #returns an object\n",
    "print(vector_a) #returns the vector"
   ]
  },
  {
   "cell_type": "code",
   "execution_count": 17,
   "metadata": {},
   "outputs": [
    {
     "data": {
      "text/plain": [
       "False"
      ]
     },
     "execution_count": 17,
     "metadata": {},
     "output_type": "execute_result"
    }
   ],
   "source": [
    "vector_b = Vector([-1,2,3])\n",
    "vector_a == vector_b #compare vector_a and vector_b"
   ]
  },
  {
   "cell_type": "markdown",
   "metadata": {},
   "source": [
    "### https://web.stanford.edu/class/cs231a/section/section1.pdf\n",
    "### https://cs231n.github.io/python-numpy-tutorial/"
   ]
  },
  {
   "cell_type": "code",
   "execution_count": 2,
   "metadata": {},
   "outputs": [],
   "source": [
    "import numpy as np #trace, eye, array, ones, zeros, full, diag\n",
    "import scipy.linalg as la"
   ]
  },
  {
   "cell_type": "code",
   "execution_count": 8,
   "metadata": {},
   "outputs": [
    {
     "data": {
      "text/plain": [
       "array([[1, 2, 3],\n",
       "       [4, 5, 6],\n",
       "       [7, 8, 9]])"
      ]
     },
     "metadata": {},
     "output_type": "display_data"
    },
    {
     "name": "stdout",
     "output_type": "stream",
     "text": [
      "Shape of the matrix: (3, 3)\n"
     ]
    }
   ],
   "source": [
    "matrix_1 = np.array([[1,2,3],[4,5,6],[7,8,9]])\n",
    "display(matrix_1)\n",
    "print('Shape of the matrix: {0}'.format(matrix_1.shape))"
   ]
  },
  {
   "cell_type": "code",
   "execution_count": 12,
   "metadata": {},
   "outputs": [
    {
     "data": {
      "text/plain": [
       "array([[1],\n",
       "       [2],\n",
       "       [3]])"
      ]
     },
     "metadata": {},
     "output_type": "display_data"
    },
    {
     "name": "stdout",
     "output_type": "stream",
     "text": [
      "Shape of the vector: (3, 1)\n"
     ]
    }
   ],
   "source": [
    "vector_1 = np.array([[1],[2],[3]])\n",
    "display(vector_1)\n",
    "print('Shape of the vector: {0}'.format(vector_1.shape))"
   ]
  },
  {
   "cell_type": "code",
   "execution_count": 113,
   "metadata": {},
   "outputs": [
    {
     "data": {
      "text/plain": [
       "array([2, 4, 6])"
      ]
     },
     "metadata": {},
     "output_type": "display_data"
    },
    {
     "name": "stdout",
     "output_type": "stream",
     "text": [
      "Shape of the single dimension vector: (3,)\n"
     ]
    },
    {
     "data": {
      "text/plain": [
       "1"
      ]
     },
     "metadata": {},
     "output_type": "display_data"
    }
   ],
   "source": [
    "row_vector_single_dimension = np.array([2,4,6])\n",
    "display(row_vector_single_dimension)\n",
    "print('Shape of the single dimension vector: {0}'.format(row_vector_single_dimension.shape))\n",
    "display(row_vector_single_dimension.ndim)"
   ]
  },
  {
   "cell_type": "code",
   "execution_count": 74,
   "metadata": {},
   "outputs": [
    {
     "data": {
      "text/plain": [
       "array([ 4, 16, 36])"
      ]
     },
     "metadata": {},
     "output_type": "display_data"
    },
    {
     "data": {
      "text/plain": [
       "array([[1],\n",
       "       [4],\n",
       "       [9]])"
      ]
     },
     "metadata": {},
     "output_type": "display_data"
    },
    {
     "data": {
      "text/plain": [
       "array([[ 1,  4,  9],\n",
       "       [16, 25, 36],\n",
       "       [49, 64, 81]])"
      ]
     },
     "metadata": {},
     "output_type": "display_data"
    }
   ],
   "source": [
    "display(row_vector_single_dimension*row_vector_single_dimension)\n",
    "display(vector_1*vector_1)\n",
    "display(matrix_1*matrix_1)"
   ]
  },
  {
   "cell_type": "code",
   "execution_count": 34,
   "metadata": {},
   "outputs": [
    {
     "data": {
      "text/plain": [
       "array([[0., 0., 0.],\n",
       "       [0., 0., 0.]])"
      ]
     },
     "metadata": {},
     "output_type": "display_data"
    },
    {
     "data": {
      "text/plain": [
       "array([[1., 1., 1.],\n",
       "       [1., 1., 1.]])"
      ]
     },
     "metadata": {},
     "output_type": "display_data"
    },
    {
     "data": {
      "text/plain": [
       "array([[5., 5., 5.],\n",
       "       [5., 5., 5.]])"
      ]
     },
     "metadata": {},
     "output_type": "display_data"
    },
    {
     "data": {
      "text/plain": [
       "array([[1., 0., 0., 0.],\n",
       "       [0., 1., 0., 0.],\n",
       "       [0., 0., 1., 0.],\n",
       "       [0., 0., 0., 1.]])"
      ]
     },
     "metadata": {},
     "output_type": "display_data"
    },
    {
     "data": {
      "text/plain": [
       "array([[0.24657299, 0.9190737 , 0.93573303],\n",
       "       [0.677382  , 0.79218398, 0.43430388]])"
      ]
     },
     "metadata": {},
     "output_type": "display_data"
    }
   ],
   "source": [
    "matrix_zeros = np.zeros((2,3))\n",
    "display(matrix_zeros)\n",
    "matrix_ones = np.ones((2,3))\n",
    "display(matrix_ones)\n",
    "matrix_full = np.full((2,3),5.)\n",
    "display(matrix_full)\n",
    "matrix_diagonal = np.eye(4)\n",
    "display(matrix_diagonal)\n",
    "matrix_random = np.random.random((2,3))\n",
    "display(matrix_random)"
   ]
  },
  {
   "cell_type": "code",
   "execution_count": 38,
   "metadata": {},
   "outputs": [
    {
     "data": {
      "text/plain": [
       "array([1, 2, 3, 4, 5, 6, 7, 8, 9])"
      ]
     },
     "metadata": {},
     "output_type": "display_data"
    },
    {
     "name": "stdout",
     "output_type": "stream",
     "text": [
      "shape of vector_hstack is (9,)\n"
     ]
    },
    {
     "data": {
      "text/plain": [
       "array([[1, 2, 3],\n",
       "       [4, 5, 6],\n",
       "       [7, 8, 9]])"
      ]
     },
     "metadata": {},
     "output_type": "display_data"
    },
    {
     "name": "stdout",
     "output_type": "stream",
     "text": [
      "shape of vector_vstack is (3, 3)\n"
     ]
    }
   ],
   "source": [
    "vector_3 = np.array([1,2,3])\n",
    "vector_4 = np.array([4,5,6])\n",
    "vector_5 = np.array([7,8,9])\n",
    "vector_hstack = np.hstack([vector_3,vector_4,vector_5])\n",
    "display(vector_hstack)\n",
    "print('shape of vector_hstack is {0}'.format(vector_hstack.shape))\n",
    "vector_vstack = np.vstack([vector_3,vector_4,vector_5])\n",
    "display(vector_vstack)\n",
    "print('shape of vector_vstack is {0}'.format(vector_vstack.shape))"
   ]
  },
  {
   "cell_type": "code",
   "execution_count": 60,
   "metadata": {},
   "outputs": [
    {
     "data": {
      "text/plain": [
       "array([1, 2, 3])"
      ]
     },
     "metadata": {},
     "output_type": "display_data"
    },
    {
     "data": {
      "text/plain": [
       "array([1, 4, 7])"
      ]
     },
     "metadata": {},
     "output_type": "display_data"
    },
    {
     "data": {
      "text/plain": [
       "array([[2, 3],\n",
       "       [5, 6]])"
      ]
     },
     "metadata": {},
     "output_type": "display_data"
    }
   ],
   "source": [
    "display(vector_vstack[0])\n",
    "display(vector_vstack[:,0])\n",
    "display(vector_vstack[:2,1:3])"
   ]
  },
  {
   "cell_type": "markdown",
   "metadata": {},
   "source": [
    "$matrix1 = $$\\begin{bmatrix} 1 & 2 & 3 \\\\ 4 & 5 & 6 \\\\ 7 & 8 & 9 \\\\ \\end{bmatrix}$\n",
    "$vector1 =$$\\begin{bmatrix} 1 \\\\ 2 \\\\ 3 \\end{bmatrix}$\n",
    ", $x_i = 1,4,7; y_i = 2,5,8; z_i=3,6,9$"
   ]
  },
  {
   "cell_type": "code",
   "execution_count": 94,
   "metadata": {},
   "outputs": [
    {
     "data": {
      "text/plain": [
       "array([[14],\n",
       "       [32],\n",
       "       [50]])"
      ]
     },
     "metadata": {},
     "output_type": "display_data"
    },
    {
     "data": {
      "text/plain": [
       "array([[ 1,  2,  3],\n",
       "       [ 8, 10, 12],\n",
       "       [21, 24, 27]])"
      ]
     },
     "metadata": {},
     "output_type": "display_data"
    },
    {
     "data": {
      "text/plain": [
       "array([[ 12,  24,  36],\n",
       "       [ 48,  60,  72],\n",
       "       [ 84,  96, 108]])"
      ]
     },
     "metadata": {},
     "output_type": "display_data"
    }
   ],
   "source": [
    "display(matrix_1.dot(vector_1))\n",
    "display(np.multiply(matrix_1,vector_1)) # element wise\n",
    "display(np.multiply(matrix_1,12)) # element wise"
   ]
  },
  {
   "cell_type": "code",
   "execution_count": 99,
   "metadata": {},
   "outputs": [
    {
     "data": {
      "text/plain": [
       "array([[1],\n",
       "       [4],\n",
       "       [9]])"
      ]
     },
     "metadata": {},
     "output_type": "display_data"
    },
    {
     "data": {
      "text/plain": [
       "array([[1],\n",
       "       [4],\n",
       "       [9]])"
      ]
     },
     "metadata": {},
     "output_type": "display_data"
    },
    {
     "ename": "ValueError",
     "evalue": "shapes (3,1) and (3,1) not aligned: 1 (dim 1) != 3 (dim 0)",
     "output_type": "error",
     "traceback": [
      "\u001b[0;31m---------------------------------------------------------------------------\u001b[0m",
      "\u001b[0;31mValueError\u001b[0m                                Traceback (most recent call last)",
      "\u001b[0;32m<ipython-input-99-03cda0ffd7b9>\u001b[0m in \u001b[0;36m<module>\u001b[0;34m\u001b[0m\n\u001b[1;32m      1\u001b[0m \u001b[0mdisplay\u001b[0m\u001b[0;34m(\u001b[0m\u001b[0mnp\u001b[0m\u001b[0;34m.\u001b[0m\u001b[0mmultiply\u001b[0m\u001b[0;34m(\u001b[0m\u001b[0mvector_1\u001b[0m\u001b[0;34m,\u001b[0m \u001b[0mvector_1\u001b[0m\u001b[0;34m)\u001b[0m\u001b[0;34m)\u001b[0m\u001b[0;34m\u001b[0m\u001b[0;34m\u001b[0m\u001b[0m\n\u001b[1;32m      2\u001b[0m \u001b[0mdisplay\u001b[0m\u001b[0;34m(\u001b[0m\u001b[0mvector_1\u001b[0m\u001b[0;34m*\u001b[0m\u001b[0mvector_1\u001b[0m\u001b[0;34m)\u001b[0m\u001b[0;34m\u001b[0m\u001b[0;34m\u001b[0m\u001b[0m\n\u001b[0;32m----> 3\u001b[0;31m \u001b[0mdisplay\u001b[0m\u001b[0;34m(\u001b[0m\u001b[0mvector_1\u001b[0m\u001b[0;34m.\u001b[0m\u001b[0mdot\u001b[0m\u001b[0;34m(\u001b[0m\u001b[0mvector_1\u001b[0m\u001b[0;34m)\u001b[0m\u001b[0;34m)\u001b[0m\u001b[0;34m\u001b[0m\u001b[0;34m\u001b[0m\u001b[0m\n\u001b[0m",
      "\u001b[0;31mValueError\u001b[0m: shapes (3,1) and (3,1) not aligned: 1 (dim 1) != 3 (dim 0)"
     ]
    }
   ],
   "source": [
    "display(np.multiply(vector_1, vector_1)) # element wise\n",
    "display(vector_1*vector_1) # element wise\n",
    "display(vector_1.dot(vector_1)) # error => dot product 3x1, 3x1"
   ]
  },
  {
   "cell_type": "code",
   "execution_count": 112,
   "metadata": {},
   "outputs": [
    {
     "data": {
      "text/plain": [
       "array([[1, 2, 3],\n",
       "       [2, 4, 6],\n",
       "       [3, 6, 9]])"
      ]
     },
     "metadata": {},
     "output_type": "display_data"
    },
    {
     "data": {
      "text/plain": [
       "array([[14]])"
      ]
     },
     "metadata": {},
     "output_type": "display_data"
    },
    {
     "data": {
      "text/plain": [
       "2"
      ]
     },
     "metadata": {},
     "output_type": "display_data"
    }
   ],
   "source": [
    "display(vector_1.dot(vector_1.T))\n",
    "display(vector_1.T.dot(vector_1))\n",
    "display(vector_1.ndim)"
   ]
  },
  {
   "cell_type": "code",
   "execution_count": 76,
   "metadata": {},
   "outputs": [
    {
     "data": {
      "text/plain": [
       "56"
      ]
     },
     "metadata": {},
     "output_type": "display_data"
    }
   ],
   "source": [
    "display(row_vector_single_dimension.dot(row_vector_single_dimension.T))"
   ]
  },
  {
   "cell_type": "code",
   "execution_count": 87,
   "metadata": {},
   "outputs": [
    {
     "data": {
      "text/plain": [
       "array([2, 4, 6])"
      ]
     },
     "metadata": {},
     "output_type": "display_data"
    },
    {
     "data": {
      "text/plain": [
       "array([2, 4, 6])"
      ]
     },
     "metadata": {},
     "output_type": "display_data"
    },
    {
     "data": {
      "text/plain": [
       "(3,)"
      ]
     },
     "metadata": {},
     "output_type": "display_data"
    },
    {
     "data": {
      "text/plain": [
       "(3,)"
      ]
     },
     "metadata": {},
     "output_type": "display_data"
    }
   ],
   "source": [
    "display(row_vector_single_dimension)\n",
    "display(row_vector_single_dimension.T)\n",
    "display(row_vector_single_dimension.shape)\n",
    "display(row_vector_single_dimension.T.shape)"
   ]
  },
  {
   "cell_type": "code",
   "execution_count": 110,
   "metadata": {},
   "outputs": [
    {
     "data": {
      "text/plain": [
       "array([[2],\n",
       "       [4],\n",
       "       [6]])"
      ]
     },
     "metadata": {},
     "output_type": "display_data"
    },
    {
     "data": {
      "text/plain": [
       "2"
      ]
     },
     "metadata": {},
     "output_type": "display_data"
    }
   ],
   "source": [
    "# Convert row vector to column vector by adding a new dim\n",
    "row_vector_single_dimension.shape = (3,1)\n",
    "display(row_vector_single_dimension) # converted to column vector\n",
    "display(row_vector_single_dimension.ndim)"
   ]
  },
  {
   "cell_type": "code",
   "execution_count": 102,
   "metadata": {},
   "outputs": [
    {
     "data": {
      "text/plain": [
       "array([[ 3.15251974e+15, -6.30503948e+15,  3.15251974e+15],\n",
       "       [-6.30503948e+15,  1.26100790e+16, -6.30503948e+15],\n",
       "       [ 3.15251974e+15, -6.30503948e+15,  3.15251974e+15]])"
      ]
     },
     "metadata": {},
     "output_type": "display_data"
    },
    {
     "data": {
      "text/plain": [
       "-9.51619735392994e-16"
      ]
     },
     "metadata": {},
     "output_type": "display_data"
    }
   ],
   "source": [
    "display(np.linalg.inv(matrix_1))\n",
    "display(np.linalg.det(matrix_1))"
   ]
  },
  {
   "cell_type": "code",
   "execution_count": 103,
   "metadata": {},
   "outputs": [
    {
     "data": {
      "text/plain": [
       "array([[ 0,  1],\n",
       "       [-2, -3]])"
      ]
     },
     "execution_count": 103,
     "metadata": {},
     "output_type": "execute_result"
    }
   ],
   "source": [
    "matrix_2 = np.array([[0,1],[-2,-3]])\n",
    "matrix_2"
   ]
  },
  {
   "cell_type": "code",
   "execution_count": 107,
   "metadata": {},
   "outputs": [
    {
     "data": {
      "text/plain": [
       "array([-1., -2.])"
      ]
     },
     "metadata": {},
     "output_type": "display_data"
    },
    {
     "data": {
      "text/plain": [
       "array([[ 0.70710678, -0.4472136 ],\n",
       "       [-0.70710678,  0.89442719]])"
      ]
     },
     "metadata": {},
     "output_type": "display_data"
    }
   ],
   "source": [
    "eig_values, eig_vectors = np.linalg.eig(matrix_2)\n",
    "display(eig_values)\n",
    "display(eig_vectors)"
   ]
  },
  {
   "cell_type": "code",
   "execution_count": 109,
   "metadata": {},
   "outputs": [
    {
     "data": {
      "text/plain": [
       "array([[-0.21483724,  0.88723069,  0.40824829],\n",
       "       [-0.52058739,  0.24964395, -0.81649658],\n",
       "       [-0.82633754, -0.38794278,  0.40824829]])"
      ]
     },
     "metadata": {},
     "output_type": "display_data"
    },
    {
     "data": {
      "text/plain": [
       "array([1.68481034e+01, 1.06836951e+00, 3.33475287e-16])"
      ]
     },
     "metadata": {},
     "output_type": "display_data"
    },
    {
     "data": {
      "text/plain": [
       "array([[-0.47967118, -0.57236779, -0.66506441],\n",
       "       [-0.77669099, -0.07568647,  0.62531805],\n",
       "       [-0.40824829,  0.81649658, -0.40824829]])"
      ]
     },
     "metadata": {},
     "output_type": "display_data"
    }
   ],
   "source": [
    "U, S, Vtranspose = np.linalg.svd(matrix_1)\n",
    "display(U)\n",
    "display(S)\n",
    "display(Vtranspose)"
   ]
  },
  {
   "cell_type": "markdown",
   "metadata": {},
   "source": [
    "### https://www.math.ubc.ca/~pwalls/math-python/linear-algebra/linear-algebra-scipy/"
   ]
  },
  {
   "cell_type": "code",
   "execution_count": 127,
   "metadata": {},
   "outputs": [
    {
     "data": {
      "text/plain": [
       "array([[ 1,  2],\n",
       "       [ 3,  7],\n",
       "       [-1,  5]])"
      ]
     },
     "metadata": {},
     "output_type": "display_data"
    },
    {
     "name": "stdout",
     "output_type": "stream",
     "text": [
      "shape if the matrix:  (3, 2)\n",
      "size of the matrix:  6\n",
      "num of dim:  2\n",
      "column 1 returned as array:  [2 7 5]\n",
      "shape of matrix_3_col_1: (3,)\n",
      "num of dim of matrix_3_col_1: 1\n"
     ]
    }
   ],
   "source": [
    "# Creating arrays\n",
    "matrix_3 = np.array([[1,2],[3,7],[-1,5]])\n",
    "display(matrix_3)\n",
    "print('shape if the matrix: ',matrix_3.shape)\n",
    "print('size of the matrix: ', matrix_3.size)\n",
    "print('num of dim: ',matrix_3.ndim)\n",
    "matrix_3_col_1 = matrix_3[:,1]\n",
    "print('column 1 returned as array: ',matrix_3_col_1)\n",
    "print('shape of matrix_3_col_1:', matrix_3_col_1.shape)\n",
    "print('num of dim of matrix_3_col_1:', matrix_3_col_1.ndim)"
   ]
  },
  {
   "cell_type": "code",
   "execution_count": 129,
   "metadata": {},
   "outputs": [
    {
     "data": {
      "text/plain": [
       "array([[2],\n",
       "       [7],\n",
       "       [5]])"
      ]
     },
     "metadata": {},
     "output_type": "display_data"
    },
    {
     "name": "stdout",
     "output_type": "stream",
     "text": [
      "Dimensions: 2\n",
      "Shape: (3, 1)\n",
      "Size: 3\n"
     ]
    }
   ],
   "source": [
    "# select this column as a column vector\n",
    "col_1_vector = matrix_3_col_1.reshape(3,1)\n",
    "display(col_1_vector)\n",
    "print('Dimensions:', col_1_vector.ndim)\n",
    "print('Shape:', col_1_vector.shape)\n",
    "print('Size:', col_1_vector.size)"
   ]
  },
  {
   "cell_type": "code",
   "execution_count": 134,
   "metadata": {},
   "outputs": [
    {
     "data": {
      "text/plain": [
       "array([[-1,  3],\n",
       "       [ 2, -5]])"
      ]
     },
     "metadata": {},
     "output_type": "display_data"
    },
    {
     "data": {
      "text/plain": [
       "array([[ 1,  9],\n",
       "       [ 4, 25]])"
      ]
     },
     "metadata": {},
     "output_type": "display_data"
    },
    {
     "data": {
      "text/plain": [
       "array([[  7, -18],\n",
       "       [-12,  31]])"
      ]
     },
     "metadata": {},
     "output_type": "display_data"
    },
    {
     "data": {
      "text/plain": [
       "array([[  7, -18],\n",
       "       [-12,  31]])"
      ]
     },
     "metadata": {},
     "output_type": "display_data"
    }
   ],
   "source": [
    "matrix_4 = np.array([[-1,3],[2,-5]])\n",
    "display(matrix_4)\n",
    "display(matrix_4*matrix_4) # elementwise\n",
    "display(matrix_4.dot(matrix_4)) # matrix multiplication\n",
    "display(matrix_4@matrix_4) # matrix multiplication"
   ]
  },
  {
   "cell_type": "code",
   "execution_count": 142,
   "metadata": {},
   "outputs": [
    {
     "data": {
      "text/plain": [
       "array([[ 1,  3],\n",
       "       [-1,  7]])"
      ]
     },
     "metadata": {},
     "output_type": "display_data"
    },
    {
     "data": {
      "text/plain": [
       "array([[5, 2],\n",
       "       [1, 2]])"
      ]
     },
     "metadata": {},
     "output_type": "display_data"
    },
    {
     "data": {
      "text/plain": [
       "array([[ 1, -1],\n",
       "       [ 3,  7]])"
      ]
     },
     "metadata": {},
     "output_type": "display_data"
    }
   ],
   "source": [
    "matrix_5 = np.array([[1,3],[-1,7]])\n",
    "matrix_6 = np.array([[5,2],[1,2]])\n",
    "display(matrix_5)\n",
    "display(matrix_6)\n",
    "display(matrix_5.T)"
   ]
  },
  {
   "cell_type": "markdown",
   "metadata": {},
   "source": [
    "### 2I + 3A - AB"
   ]
  },
  {
   "cell_type": "code",
   "execution_count": 138,
   "metadata": {},
   "outputs": [
    {
     "data": {
      "text/plain": [
       "array([[-3.,  1.],\n",
       "       [-5., 11.]])"
      ]
     },
     "execution_count": 138,
     "metadata": {},
     "output_type": "execute_result"
    }
   ],
   "source": [
    "2*np.eye(2) + 3*matrix_5 - matrix_5@matrix_6"
   ]
  },
  {
   "cell_type": "code",
   "execution_count": 140,
   "metadata": {},
   "outputs": [
    {
     "data": {
      "text/plain": [
       "array([[-2, 24],\n",
       "       [-8, 46]])"
      ]
     },
     "metadata": {},
     "output_type": "display_data"
    },
    {
     "data": {
      "text/plain": [
       "array([[-2, 24],\n",
       "       [-8, 46]])"
      ]
     },
     "metadata": {},
     "output_type": "display_data"
    }
   ],
   "source": [
    "display(np.linalg.matrix_power(matrix_5,2))\n",
    "display(matrix_5@matrix_5)"
   ]
  },
  {
   "cell_type": "markdown",
   "metadata": {},
   "source": [
    "### $MM^T$ is a symmetric matrix "
   ]
  },
  {
   "cell_type": "code",
   "execution_count": 144,
   "metadata": {},
   "outputs": [
    {
     "data": {
      "text/plain": [
       "array([[10, 20],\n",
       "       [20, 50]])"
      ]
     },
     "metadata": {},
     "output_type": "display_data"
    }
   ],
   "source": [
    "display(matrix_5@matrix_5.T) #symmetric "
   ]
  },
  {
   "cell_type": "markdown",
   "metadata": {},
   "source": [
    "### Inverse of a matrix"
   ]
  },
  {
   "cell_type": "code",
   "execution_count": 145,
   "metadata": {},
   "outputs": [
    {
     "data": {
      "text/plain": [
       "array([[ 0.7, -0.3],\n",
       "       [ 0.1,  0.1]])"
      ]
     },
     "metadata": {},
     "output_type": "display_data"
    }
   ],
   "source": [
    "display(np.linalg.inv(matrix_5))"
   ]
  },
  {
   "cell_type": "markdown",
   "metadata": {},
   "source": [
    "### Trace of a matrix"
   ]
  },
  {
   "cell_type": "code",
   "execution_count": 146,
   "metadata": {},
   "outputs": [
    {
     "data": {
      "text/plain": [
       "8"
      ]
     },
     "metadata": {},
     "output_type": "display_data"
    }
   ],
   "source": [
    "display(np.trace(matrix_5))"
   ]
  },
  {
   "cell_type": "markdown",
   "metadata": {},
   "source": [
    "### Determinant of a matrix"
   ]
  },
  {
   "cell_type": "code",
   "execution_count": 147,
   "metadata": {},
   "outputs": [
    {
     "data": {
      "text/plain": [
       "10.000000000000002"
      ]
     },
     "metadata": {},
     "output_type": "display_data"
    }
   ],
   "source": [
    "display(np.linalg.det(matrix_5))"
   ]
  },
  {
   "cell_type": "markdown",
   "metadata": {},
   "source": [
    "### Characteristic polynomial and cayley-hamilton theorem\n",
    "$\\det (A-\\lambda I) = \\lambda^2 - trace(A)\\lambda + \\det(A)$\n",
    "### any square matrix satisfies its characteristic polynomial.\n",
    "$A^2 - trace(A)A + det(A)I = 0$"
   ]
  },
  {
   "cell_type": "code",
   "execution_count": 157,
   "metadata": {},
   "outputs": [],
   "source": [
    "A = np.array([[1,2],[3,4]])"
   ]
  },
  {
   "cell_type": "code",
   "execution_count": 170,
   "metadata": {},
   "outputs": [
    {
     "data": {
      "text/plain": [
       "array([[0., 0.],\n",
       "       [0., 0.]])"
      ]
     },
     "execution_count": 170,
     "metadata": {},
     "output_type": "execute_result"
    }
   ],
   "source": [
    "(A@A) - (np.trace(A))*A + (la.det(A))*np.eye(2)"
   ]
  },
  {
   "cell_type": "code",
   "execution_count": 168,
   "metadata": {},
   "outputs": [
    {
     "data": {
      "text/plain": [
       "array([[0., 0.],\n",
       "       [0., 0.]])"
      ]
     },
     "execution_count": 168,
     "metadata": {},
     "output_type": "execute_result"
    }
   ],
   "source": [
    "trace_A = np.trace(A)\n",
    "det_A = la.det(A)\n",
    "I = np.eye(2)\n",
    "A @ A - trace_A * A + det_A * I"
   ]
  },
  {
   "cell_type": "code",
   "execution_count": 162,
   "metadata": {},
   "outputs": [
    {
     "name": "stdout",
     "output_type": "stream",
     "text": [
      "[[1 9]\n",
      " [4 6]]\n"
     ]
    }
   ],
   "source": [
    "N = np.random.randint(0,10,[2,2])\n",
    "print(N)"
   ]
  },
  {
   "cell_type": "code",
   "execution_count": 169,
   "metadata": {},
   "outputs": [
    {
     "data": {
      "text/plain": [
       "array([[0., 0.],\n",
       "       [0., 0.]])"
      ]
     },
     "execution_count": 169,
     "metadata": {},
     "output_type": "execute_result"
    }
   ],
   "source": [
    "trace_N = np.trace(N)\n",
    "det_N = la.det(N)\n",
    "I = np.eye(2)\n",
    "N @ N - trace_N * N + det_N * I"
   ]
  },
  {
   "cell_type": "markdown",
   "metadata": {},
   "source": [
    "### Projection: $proj_w (v) = \\frac{v^{T}w}{w^{T}w} w$"
   ]
  },
  {
   "cell_type": "code",
   "execution_count": 28,
   "metadata": {},
   "outputs": [],
   "source": [
    "def proj_v_on_w(v, w):\n",
    "    v = np.array(v)\n",
    "    w = np.array(w)\n",
    "    return (v.T.dot(w)/w.T.dot(w))*w # or np.sum(v * w)/np.sum(w * w) * w   # or (v @ w)/(w @ w) * w"
   ]
  },
  {
   "cell_type": "code",
   "execution_count": 29,
   "metadata": {},
   "outputs": [
    {
     "data": {
      "text/plain": [
       "array([2., 2., 2.])"
      ]
     },
     "execution_count": 29,
     "metadata": {},
     "output_type": "execute_result"
    }
   ],
   "source": [
    "proj_v_on_w([1,2,3],[1,1,1])"
   ]
  },
  {
   "cell_type": "code",
   "execution_count": 203,
   "metadata": {},
   "outputs": [
    {
     "data": {
      "text/plain": [
       "'matrix A'"
      ]
     },
     "metadata": {},
     "output_type": "display_data"
    },
    {
     "data": {
      "text/plain": [
       "array([[ 1,  0],\n",
       "       [ 0, -2]])"
      ]
     },
     "metadata": {},
     "output_type": "display_data"
    },
    {
     "name": "stdout",
     "output_type": "stream",
     "text": [
      "matrix A eigenvals [ 1.+0.j -2.+0.j]\n",
      "eig val real part [ 1. -2.]\n",
      "eig val real part [0. 0.]\n"
     ]
    },
    {
     "data": {
      "text/plain": [
       "'eigen vectors'"
      ]
     },
     "metadata": {},
     "output_type": "display_data"
    },
    {
     "data": {
      "text/plain": [
       "array([[1., 0.],\n",
       "       [0., 1.]])"
      ]
     },
     "metadata": {},
     "output_type": "display_data"
    },
    {
     "data": {
      "text/plain": [
       "array([[1.],\n",
       "       [0.]])"
      ]
     },
     "metadata": {},
     "output_type": "display_data"
    },
    {
     "data": {
      "text/plain": [
       "array([[0.],\n",
       "       [1.]])"
      ]
     },
     "metadata": {},
     "output_type": "display_data"
    },
    {
     "data": {
      "text/plain": [
       "array([[ 0.],\n",
       "       [-2.]])"
      ]
     },
     "metadata": {},
     "output_type": "display_data"
    },
    {
     "data": {
      "text/plain": [
       "array([[-0.],\n",
       "       [-2.]])"
      ]
     },
     "metadata": {},
     "output_type": "display_data"
    }
   ],
   "source": [
    "A = np.array([[1,0],[0,-2]])\n",
    "display(\"matrix A\",A)\n",
    "eig_val, eig_vec = la.eig(A)\n",
    "print(\"matrix A eigenvals\", eig_val)\n",
    "print('eig val real part', eig_val.real)\n",
    "print('eig val real part', eig_val.imag)\n",
    "display('eigen vectors', eig_vec)\n",
    "# eig vect as column vectors\n",
    "display(eig_vec[:,0].reshape(2,1))\n",
    "display(eig_vec[:,1].reshape(2,1))\n",
    "# Verify\n",
    "display(A.dot(eig_vec[:,1].reshape(2,1))) # (A)(v)\n",
    "display(eig_val[1].real*eig_vec[:,1].reshape(2,1)) # (lambda)(v)"
   ]
  },
  {
   "cell_type": "markdown",
   "metadata": {},
   "source": [
    "### Create symmetric matrix\n",
    "- $MM^T$\n",
    "- eigen values are real\n",
    "- eigen vectors are orthogonal"
   ]
  },
  {
   "cell_type": "code",
   "execution_count": 209,
   "metadata": {},
   "outputs": [],
   "source": [
    "#np.random.random((3,3))\n",
    "P = np.random.randint(0,10,(3,3))"
   ]
  },
  {
   "cell_type": "code",
   "execution_count": 212,
   "metadata": {},
   "outputs": [
    {
     "data": {
      "text/plain": [
       "array([[118, 119,  30],\n",
       "       [119, 170,  25],\n",
       "       [ 30,  25,  25]])"
      ]
     },
     "metadata": {},
     "output_type": "display_data"
    }
   ],
   "source": [
    "# Create a symmetric matrix\n",
    "symmetric_matrix_1 = P.dot(P.T) # or P@(P.T)\n",
    "display(symmetric_matrix_1)"
   ]
  },
  {
   "cell_type": "code",
   "execution_count": 214,
   "metadata": {},
   "outputs": [
    {
     "data": {
      "text/plain": [
       "array([271.75354067+0.j,  12.86507496+0.j,  28.38138437+0.j])"
      ]
     },
     "metadata": {},
     "output_type": "display_data"
    },
    {
     "data": {
      "text/plain": [
       "array([[-0.62336287, -0.56488891,  0.54066556],\n",
       "       [-0.76672422,  0.30586542, -0.56442919],\n",
       "       [-0.15346889,  0.76638559,  0.62377915]])"
      ]
     },
     "metadata": {},
     "output_type": "display_data"
    }
   ],
   "source": [
    "sym_1_eig_vals,sym_1_eig_vecs = la.eig(symmetric_matrix_1)\n",
    "display(sym_1_eig_vals)\n",
    "display(sym_1_eig_vecs)"
   ]
  },
  {
   "cell_type": "code",
   "execution_count": 215,
   "metadata": {},
   "outputs": [
    {
     "data": {
      "text/plain": [
       "array([271.75354067,  12.86507496,  28.38138437])"
      ]
     },
     "metadata": {},
     "output_type": "display_data"
    }
   ],
   "source": [
    "# real eigen values\n",
    "display(sym_1_eig_vals.real)"
   ]
  },
  {
   "cell_type": "code",
   "execution_count": 221,
   "metadata": {},
   "outputs": [
    {
     "data": {
      "text/plain": [
       "array([[-0.62336287],\n",
       "       [-0.76672422],\n",
       "       [-0.15346889]])"
      ]
     },
     "metadata": {},
     "output_type": "display_data"
    },
    {
     "data": {
      "text/plain": [
       "array([[-0.56488891],\n",
       "       [ 0.30586542],\n",
       "       [ 0.76638559]])"
      ]
     },
     "metadata": {},
     "output_type": "display_data"
    }
   ],
   "source": [
    "eig_1 = sym_1_eig_vecs[:,0].reshape(3,1)\n",
    "eig_2 = sym_1_eig_vecs[:,1].reshape(3,1)\n",
    "display(eig_1)\n",
    "display(eig_2)"
   ]
  },
  {
   "cell_type": "code",
   "execution_count": 229,
   "metadata": {},
   "outputs": [
    {
     "data": {
      "text/plain": [
       "array([[2.91433544e-16]])"
      ]
     },
     "execution_count": 229,
     "metadata": {},
     "output_type": "execute_result"
    }
   ],
   "source": [
    "# Eigen vectors are orthogonal\n",
    "(eig_1.T).dot(eig_2) # or sym_1_eig_vecs[:,0] @ sym_1_eig_vecs[:,1] approx equals to 0"
   ]
  },
  {
   "cell_type": "markdown",
   "metadata": {},
   "source": [
    "### Diagonalization\n",
    "A square matrix \n",
    "is diagonalizable if it is similar to a diagonal matrix. In other words, \n",
    " is diagonalizable if there exists an invertible matrix \n",
    " such that \n",
    " is a diagonal matrix.\n",
    "\n",
    "A beautiful result in linear algebra is that a square matrix \n",
    " of size \n",
    " is diagonalizable if and only if \n",
    " has \n",
    " independent eigevectors. Furthermore, \n",
    " where the columns of \n",
    "are the eigenvectors of \n",
    " and \n",
    " has corresponding eigenvalues along the diagonal.\n",
    "\n"
   ]
  },
  {
   "cell_type": "markdown",
   "metadata": {},
   "source": [
    "$\\lambda_1=3, \\lambda_2=1, v_1 = [1,1]^T, v_2 = [1,-1]^T, $\n",
    "$M = PDP^{-1}$"
   ]
  },
  {
   "cell_type": "code",
   "execution_count": 237,
   "metadata": {},
   "outputs": [
    {
     "data": {
      "text/plain": [
       "array([[ 1,  1],\n",
       "       [ 1, -1]])"
      ]
     },
     "metadata": {},
     "output_type": "display_data"
    },
    {
     "data": {
      "text/plain": [
       "array([[3, 0],\n",
       "       [0, 1]])"
      ]
     },
     "metadata": {},
     "output_type": "display_data"
    },
    {
     "data": {
      "text/plain": [
       "array([[2., 1.],\n",
       "       [1., 2.]])"
      ]
     },
     "metadata": {},
     "output_type": "display_data"
    },
    {
     "name": "stdout",
     "output_type": "stream",
     "text": [
      "eigen vectors of M:  [3. 1.]\n"
     ]
    }
   ],
   "source": [
    "P = np.array([[1,1],[1,-1]])\n",
    "display(P)\n",
    "D = np.diag([3,1])\n",
    "display(D)\n",
    "M = P@D@la.inv(P)\n",
    "display(M)\n",
    "#verify\n",
    "print('eigen vectors of M: ', la.eig(M)[0].real)"
   ]
  },
  {
   "cell_type": "markdown",
   "metadata": {},
   "source": [
    "### Power of matrix\n",
    "$ M^k = \\underbrace{M M \\cdots M}_k $  is expensive\n",
    "\n",
    "Use --->\n",
    "$M^k = \\left( P D P^{-1} \\right)^k  = \\underbrace{P D P^{-1} P D P^{-1} \\cdots P D P^{-1}}_k = P D^k P^{-1}$"
   ]
  },
  {
   "cell_type": "code",
   "execution_count": 238,
   "metadata": {},
   "outputs": [],
   "source": [
    "k=20"
   ]
  },
  {
   "cell_type": "code",
   "execution_count": 248,
   "metadata": {},
   "outputs": [
    {
     "name": "stdout",
     "output_type": "stream",
     "text": [
      "47.8 µs ± 2.53 µs per loop (mean ± std. dev. of 7 runs, 10000 loops each)\n"
     ]
    }
   ],
   "source": [
    "%%timeit\n",
    "result = M.copy()\n",
    "for _ in range(1,k):\n",
    "    result = result@M"
   ]
  },
  {
   "cell_type": "code",
   "execution_count": 249,
   "metadata": {},
   "outputs": [],
   "source": [
    "Pinv = la.inv(P)"
   ]
  },
  {
   "cell_type": "code",
   "execution_count": 250,
   "metadata": {},
   "outputs": [
    {
     "name": "stdout",
     "output_type": "stream",
     "text": [
      "6.19 µs ± 82.8 ns per loop (mean ± std. dev. of 7 runs, 100000 loops each)\n"
     ]
    }
   ],
   "source": [
    "%%timeit\n",
    "P@D**k@Pinv"
   ]
  },
  {
   "cell_type": "markdown",
   "metadata": {},
   "source": [
    "X = $\\begin{bmatrix} 2&1&1 \\\\ 4&-6&0 \\\\ -2&7&2 \\end{bmatrix}$\n",
    "\n",
    " y = $\\begin{bmatrix} 5 \\\\ -2 \\\\ 9 \\end{bmatrix}$\n",
    " \n",
    " $Xw=y$ : Solve for w"
   ]
  },
  {
   "cell_type": "code",
   "execution_count": 9,
   "metadata": {},
   "outputs": [],
   "source": [
    "X = np.array([[2,1,1],[4,-6,0],[-2,7,2]])\n",
    "y = np.array([[5],[-2],[9]]) #or np.array([[5,-2,9]]).reshape(3,1)"
   ]
  },
  {
   "cell_type": "code",
   "execution_count": 10,
   "metadata": {},
   "outputs": [
    {
     "data": {
      "text/plain": [
       "array([[ 2,  1,  1],\n",
       "       [ 4, -6,  0],\n",
       "       [-2,  7,  2]])"
      ]
     },
     "metadata": {},
     "output_type": "display_data"
    },
    {
     "data": {
      "text/plain": [
       "array([[ 5],\n",
       "       [-2],\n",
       "       [ 9]])"
      ]
     },
     "metadata": {},
     "output_type": "display_data"
    }
   ],
   "source": [
    "display(X)\n",
    "display(y)"
   ]
  },
  {
   "cell_type": "code",
   "execution_count": 11,
   "metadata": {},
   "outputs": [
    {
     "data": {
      "text/plain": [
       "array([[1.],\n",
       "       [1.],\n",
       "       [2.]])"
      ]
     },
     "execution_count": 11,
     "metadata": {},
     "output_type": "execute_result"
    }
   ],
   "source": [
    "la.solve(X,y)"
   ]
  },
  {
   "cell_type": "markdown",
   "metadata": {},
   "source": [
    "- Alternate method\n",
    "\n",
    " $ => X^{-1}Xw=X^{-1}y$\n",
    " \n",
    " $ => Iw = X^{-1}y$\n",
    " \n",
    " $ => w = X^{-1}y$\n",
    " "
   ]
  },
  {
   "cell_type": "code",
   "execution_count": 13,
   "metadata": {},
   "outputs": [
    {
     "data": {
      "text/plain": [
       "array([[1.],\n",
       "       [1.],\n",
       "       [2.]])"
      ]
     },
     "execution_count": 13,
     "metadata": {},
     "output_type": "execute_result"
    }
   ],
   "source": [
    "la.inv(X)@y"
   ]
  },
  {
   "cell_type": "markdown",
   "metadata": {},
   "source": [
    "length of a vector: $||x||^2 = x^T x$"
   ]
  },
  {
   "cell_type": "code",
   "execution_count": 14,
   "metadata": {},
   "outputs": [
    {
     "data": {
      "text/plain": [
       "10.488088481701515"
      ]
     },
     "execution_count": 14,
     "metadata": {},
     "output_type": "execute_result"
    }
   ],
   "source": [
    "la.norm(y)"
   ]
  },
  {
   "cell_type": "code",
   "execution_count": 25,
   "metadata": {},
   "outputs": [
    {
     "data": {
      "text/plain": [
       "array([[10.48808848]])"
      ]
     },
     "execution_count": 25,
     "metadata": {},
     "output_type": "execute_result"
    }
   ],
   "source": [
    "scipy.sqrt(y.T.dot(y))"
   ]
  },
  {
   "cell_type": "markdown",
   "metadata": {},
   "source": [
    "### https://www.fil.ion.ucl.ac.uk/~wpenny/course/matrices.pdf"
   ]
  },
  {
   "cell_type": "markdown",
   "metadata": {},
   "source": [
    "Orthogonal matrices\n",
    "\n",
    "$q_1 = \\begin{bmatrix} 1 \\\\ 2 \\end{bmatrix}$\n",
    "\n",
    "$q_2 = \\begin{bmatrix} -2 \\\\ 1 \\end{bmatrix}$\n",
    "\n",
    "$D = QQ^{T} = Q^{T}Q, $  where $Q = \\begin{bmatrix} 1&-2 \\\\ 2&1  \\end{bmatrix}$"
   ]
  },
  {
   "cell_type": "code",
   "execution_count": 30,
   "metadata": {},
   "outputs": [
    {
     "data": {
      "text/plain": [
       "array([[1],\n",
       "       [2]])"
      ]
     },
     "metadata": {},
     "output_type": "display_data"
    },
    {
     "data": {
      "text/plain": [
       "array([[-2],\n",
       "       [ 1]])"
      ]
     },
     "metadata": {},
     "output_type": "display_data"
    }
   ],
   "source": [
    "q_1 = np.array([[1],[2]])\n",
    "q_2 = np.array([[-2],[1]])\n",
    "display(q_1)\n",
    "display(q_2)"
   ]
  },
  {
   "cell_type": "code",
   "execution_count": 39,
   "metadata": {},
   "outputs": [
    {
     "data": {
      "text/plain": [
       "array([[ 1, -2],\n",
       "       [ 2,  1]])"
      ]
     },
     "metadata": {},
     "output_type": "display_data"
    },
    {
     "data": {
      "text/plain": [
       "array([[ 1,  2],\n",
       "       [-2,  1]])"
      ]
     },
     "metadata": {},
     "output_type": "display_data"
    }
   ],
   "source": [
    "matrix_Q = np.hstack([q_1,q_2])\n",
    "display(matrix_Q)\n",
    "display(matrix_Q.T)"
   ]
  },
  {
   "cell_type": "code",
   "execution_count": 44,
   "metadata": {},
   "outputs": [
    {
     "data": {
      "text/plain": [
       "array([[5, 0],\n",
       "       [0, 5]])"
      ]
     },
     "metadata": {},
     "output_type": "display_data"
    }
   ],
   "source": [
    "D = matrix_Q@matrix_Q.T\n",
    "display(D)"
   ]
  },
  {
   "cell_type": "code",
   "execution_count": 45,
   "metadata": {},
   "outputs": [
    {
     "data": {
      "text/plain": [
       "array([[5, 0],\n",
       "       [0, 5]])"
      ]
     },
     "metadata": {},
     "output_type": "display_data"
    }
   ],
   "source": [
    "D = matrix_Q.T@matrix_Q\n",
    "display(D)"
   ]
  },
  {
   "cell_type": "markdown",
   "metadata": {},
   "source": [
    "Orthonormal matrix\n",
    "- transformation by  Orthonormal matrix implies rotation of the coordinate system\n",
    "- lengths and angles are preserved"
   ]
  },
  {
   "cell_type": "code",
   "execution_count": 43,
   "metadata": {},
   "outputs": [
    {
     "data": {
      "text/plain": [
       "array([[ 0.2,  0.4],\n",
       "       [-0.4,  0.2]])"
      ]
     },
     "execution_count": 43,
     "metadata": {},
     "output_type": "execute_result"
    }
   ],
   "source": [
    "la.inv(matrix_Q).dot(np.eye(2))"
   ]
  },
  {
   "cell_type": "code",
   "execution_count": 47,
   "metadata": {},
   "outputs": [],
   "source": [
    "from fractions import Fraction"
   ]
  },
  {
   "cell_type": "code",
   "execution_count": 54,
   "metadata": {},
   "outputs": [
    {
     "data": {
      "text/plain": [
       "array([[0.4472136 ],\n",
       "       [0.89442719]])"
      ]
     },
     "metadata": {},
     "output_type": "display_data"
    },
    {
     "data": {
      "text/plain": [
       "array([[-0.89442719],\n",
       "       [ 0.4472136 ]])"
      ]
     },
     "metadata": {},
     "output_type": "display_data"
    }
   ],
   "source": [
    "unit_q_1 = q_1/la.norm(q_1)\n",
    "display(unit_q_1)\n",
    "unit_q_2 = q_2/la.norm(q_2)\n",
    "display(unit_q_2)"
   ]
  },
  {
   "cell_type": "code",
   "execution_count": 55,
   "metadata": {},
   "outputs": [
    {
     "data": {
      "text/plain": [
       "array([[ 0.4472136 , -0.89442719],\n",
       "       [ 0.89442719,  0.4472136 ]])"
      ]
     },
     "metadata": {},
     "output_type": "display_data"
    },
    {
     "data": {
      "text/plain": [
       "array([[ 0.4472136 ,  0.89442719],\n",
       "       [-0.89442719,  0.4472136 ]])"
      ]
     },
     "metadata": {},
     "output_type": "display_data"
    }
   ],
   "source": [
    "matrix_unit_Q = np.hstack([unit_q_1,unit_q_2])\n",
    "display(matrix_unit_Q)\n",
    "display(matrix_unit_Q.T)"
   ]
  },
  {
   "cell_type": "code",
   "execution_count": 64,
   "metadata": {},
   "outputs": [
    {
     "data": {
      "text/plain": [
       "array([[ 1.00000000e+00, -1.25949234e-17],\n",
       "       [-1.25949234e-17,  1.00000000e+00]])"
      ]
     },
     "metadata": {},
     "output_type": "display_data"
    }
   ],
   "source": [
    "I = matrix_unit_Q@matrix_unit_Q.T\n",
    "display(I) # -1.25949234e-17 is approx 0"
   ]
  },
  {
   "cell_type": "code",
   "execution_count": 65,
   "metadata": {},
   "outputs": [
    {
     "data": {
      "text/plain": [
       "array([[1.00000000e+00, 1.25949234e-17],\n",
       "       [1.25949234e-17, 1.00000000e+00]])"
      ]
     },
     "metadata": {},
     "output_type": "display_data"
    }
   ],
   "source": [
    "I = matrix_unit_Q.T@matrix_unit_Q\n",
    "display(I) # 1.25949234e-17 is approx 0"
   ]
  },
  {
   "cell_type": "code",
   "execution_count": 66,
   "metadata": {},
   "outputs": [
    {
     "data": {
      "text/plain": [
       "array([[ 1, -2],\n",
       "       [ 2,  1]])"
      ]
     },
     "metadata": {},
     "output_type": "display_data"
    }
   ],
   "source": [
    "display(matrix_Q)"
   ]
  },
  {
   "cell_type": "markdown",
   "metadata": {},
   "source": [
    "determinant = $\\displaystyle\\prod_i \\lambda_i$\n",
    "\n",
    "trace = sum of $\\lambda_i$ = $\\displaystyle\\sum_i \\lambda_i$\n",
    "\n",
    "trace = sum of major diagonal elements of the matrix "
   ]
  },
  {
   "cell_type": "code",
   "execution_count": 68,
   "metadata": {},
   "outputs": [
    {
     "data": {
      "text/plain": [
       "array([1.+2.j, 1.-2.j])"
      ]
     },
     "metadata": {},
     "output_type": "display_data"
    },
    {
     "data": {
      "text/plain": [
       "array([[ 0.        -0.70710678j,  0.        +0.70710678j],\n",
       "       [-0.70710678+0.j        , -0.70710678-0.j        ]])"
      ]
     },
     "metadata": {},
     "output_type": "display_data"
    }
   ],
   "source": [
    "eigval, eigvec = la.eig(matrix_Q)\n",
    "display(eigval)\n",
    "display(eigvec)"
   ]
  },
  {
   "cell_type": "code",
   "execution_count": 69,
   "metadata": {},
   "outputs": [
    {
     "data": {
      "text/plain": [
       "5.0"
      ]
     },
     "execution_count": 69,
     "metadata": {},
     "output_type": "execute_result"
    }
   ],
   "source": [
    "# det\n",
    "la.det(matrix_Q)"
   ]
  },
  {
   "cell_type": "code",
   "execution_count": 72,
   "metadata": {},
   "outputs": [
    {
     "data": {
      "text/plain": [
       "5.0"
      ]
     },
     "execution_count": 72,
     "metadata": {},
     "output_type": "execute_result"
    }
   ],
   "source": [
    "# det\n",
    "round(scipy.real(eigval[0]*eigval[1]),1)"
   ]
  },
  {
   "cell_type": "code",
   "execution_count": 73,
   "metadata": {},
   "outputs": [
    {
     "data": {
      "text/plain": [
       "2.0"
      ]
     },
     "execution_count": 73,
     "metadata": {},
     "output_type": "execute_result"
    }
   ],
   "source": [
    "# trace\n",
    "round(scipy.real(eigval[0]+eigval[1]),1)"
   ]
  },
  {
   "cell_type": "code",
   "execution_count": 74,
   "metadata": {},
   "outputs": [
    {
     "data": {
      "text/plain": [
       "2"
      ]
     },
     "execution_count": 74,
     "metadata": {},
     "output_type": "execute_result"
    }
   ],
   "source": [
    "# trace\n",
    "np.trace(matrix_Q)"
   ]
  },
  {
   "cell_type": "code",
   "execution_count": null,
   "metadata": {},
   "outputs": [],
   "source": []
  }
 ],
 "metadata": {
  "kernelspec": {
   "display_name": "Python 3",
   "language": "python",
   "name": "python3"
  },
  "language_info": {
   "codemirror_mode": {
    "name": "ipython",
    "version": 3
   },
   "file_extension": ".py",
   "mimetype": "text/x-python",
   "name": "python",
   "nbconvert_exporter": "python",
   "pygments_lexer": "ipython3",
   "version": "3.7.4"
  }
 },
 "nbformat": 4,
 "nbformat_minor": 2
}
