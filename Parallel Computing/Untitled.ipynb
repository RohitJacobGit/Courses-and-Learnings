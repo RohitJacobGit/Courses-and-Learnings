{
 "cells": [
  {
   "cell_type": "code",
   "execution_count": 1,
   "metadata": {},
   "outputs": [
    {
     "name": "stdout",
     "output_type": "stream",
     "text": [
      "Hello from 1 out of 0 processes\n"
     ]
    }
   ],
   "source": [
    "#!/usr/local/bin/python3.7\n",
    "\n",
    "from mpi4py import MPI\n",
    "\n",
    "world_size = MPI.COMM_WORLD.Get_size()\n",
    "world_rank = MPI.COMM_WORLD.Get_rank()\n",
    "\n",
    "print('Hello from {0} out of {1} processes'.format(world_size, world_rank))"
   ]
  },
  {
   "cell_type": "code",
   "execution_count": null,
   "metadata": {},
   "outputs": [],
   "source": []
  }
 ],
 "metadata": {
  "kernelspec": {
   "display_name": "Python 3",
   "language": "python",
   "name": "python3"
  },
  "language_info": {
   "codemirror_mode": {
    "name": "ipython",
    "version": 3
   },
   "file_extension": ".py",
   "mimetype": "text/x-python",
   "name": "python",
   "nbconvert_exporter": "python",
   "pygments_lexer": "ipython3",
   "version": "3.7.4"
  }
 },
 "nbformat": 4,
 "nbformat_minor": 2
}
