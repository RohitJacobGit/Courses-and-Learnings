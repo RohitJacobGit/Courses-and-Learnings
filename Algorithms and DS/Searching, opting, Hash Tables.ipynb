{
 "cells": [
  {
   "cell_type": "code",
   "execution_count": 1,
   "metadata": {},
   "outputs": [],
   "source": [
    "import numpy as np\n",
    "import pandas as pd\n",
    "from collections import defaultdict\n",
    "\n",
    "import altair as alt"
   ]
  },
  {
   "cell_type": "code",
   "execution_count": 6,
   "metadata": {},
   "outputs": [],
   "source": [
    "def search_unsorted(data, key):\n",
    "    \n",
    "    for element in data:\n",
    "        if key==element:\n",
    "            return True\n",
    "        \n",
    "    return False"
   ]
  },
  {
   "cell_type": "code",
   "execution_count": 7,
   "metadata": {},
   "outputs": [
    {
     "data": {
      "text/plain": [
       "True"
      ]
     },
     "execution_count": 7,
     "metadata": {},
     "output_type": "execute_result"
    }
   ],
   "source": [
    "search_unsorted([1, 7, 67, 35, 45], 67)"
   ]
  },
  {
   "cell_type": "code",
   "execution_count": 8,
   "metadata": {},
   "outputs": [],
   "source": [
    "# Some tests\n",
    "\n",
    "# key is the first element in the list\n",
    "assert search_unsorted([4, 7, 9, -12, 1000], 4)\n",
    "\n",
    "# key is the last element in the list\n",
    "assert search_unsorted([4, 7, 9, -12, 1000], 1000)\n",
    "\n",
    "# key occurs multiple times in the list\n",
    "assert search_unsorted([4, 7, 9, -12, 4, 1000], 4)\n",
    "\n",
    "# key is larger than the largest element in the list\n",
    "assert not search_unsorted([4, 7, 9, -12, 1000], 2000)\n",
    "\n",
    "# key is smaller than the smallest element in the list\n",
    "assert not search_unsorted([4, 7, 9, -12, 1000], -18)\n",
    "\n",
    "# nothing is in an empty list\n",
    "assert not search_unsorted([], 1)"
   ]
  },
  {
   "cell_type": "code",
   "execution_count": 27,
   "metadata": {},
   "outputs": [],
   "source": [
    "def binary_search_sorted(data, key):\n",
    "    '''\n",
    "    data: sorted list\n",
    "    '''\n",
    "    low = 0\n",
    "    high = len(data) - 1\n",
    "    while (low<=high):\n",
    "        mid = (low+high)//2\n",
    "        if data[mid]==key:\n",
    "            return True\n",
    "        elif key<data[mid]:\n",
    "            high = mid - 1\n",
    "        else:\n",
    "            low = mid + 1\n",
    "    return False"
   ]
  },
  {
   "cell_type": "code",
   "execution_count": 28,
   "metadata": {},
   "outputs": [
    {
     "data": {
      "text/plain": [
       "True"
      ]
     },
     "execution_count": 28,
     "metadata": {},
     "output_type": "execute_result"
    }
   ],
   "source": [
    "data = [-12, 4, 7, 9, 45, 45, 987, 1000, 2000]\n",
    "binary_search_sorted(data,4)"
   ]
  },
  {
   "cell_type": "code",
   "execution_count": 29,
   "metadata": {},
   "outputs": [],
   "source": [
    "# Test cases for binary search\n",
    "\n",
    "# key is the first element in the list\n",
    "assert binary_search_sorted(data, -12) == True\n",
    "\n",
    "# key is the last element in the list\n",
    "assert binary_search_sorted(data, 2000) == True\n",
    "\n",
    "# key occurs multiple times in the list\n",
    "assert binary_search_sorted(data, 45) == True\n",
    "\n",
    "# key is larger than the largest element in the list\n",
    "assert binary_search_sorted(data, 3000) == False\n",
    "\n",
    "# key is smaller than the smallest element in the list\n",
    "assert binary_search_sorted(data, -18) == False\n",
    "\n",
    "# nothing is in an empty list\n",
    "assert binary_search_sorted([], 1) == False"
   ]
  },
  {
   "cell_type": "code",
   "execution_count": 39,
   "metadata": {},
   "outputs": [
    {
     "name": "stdout",
     "output_type": "stream",
     "text": [
      "List size:  100\n",
      "List size:  1000\n",
      "List size:  10000\n",
      "List size:  100000\n",
      "List size:  1000000\n",
      "List size:  10000000\n"
     ]
    }
   ],
   "source": [
    "list_sizes = [100, 1000, 10000, 100000, 1_000_000, 10_000_000]\n",
    "\n",
    "results = defaultdict(list)\n",
    "results[\"size\"] = list_sizes\n",
    "\n",
    "key = -1\n",
    "\n",
    "for list_size in list_sizes:\n",
    "    print('List size: ', list_size)\n",
    "    x = np.random.randint(1e8, size=list_size)\n",
    "\n",
    "    time = %timeit -q -o -r 1 search_unsorted(x, key)\n",
    "    results[\"Unsorted list linear\"].append(time.average)\n",
    "    # Note: -q prevents it from printing to the terminal\n",
    "    #       -o sends the result to a variable (average time in seconds)\n",
    "    #       -r 3 makes it average only 3 trials instead of the default of 7, which saves time\n",
    "\n",
    "    time = %timeit -q -o -r 1 (key in x)\n",
    "    results[\"Unsorted list in\"].append(time.average)\n",
    "\n",
    "    x.sort()\n",
    "    time = %timeit -q -o -r 1 binary_search_sorted(x, key)\n",
    "    results[\"Sorted list binary\"].append(time.average)\n",
    "\n",
    "    x_set = set(x)\n",
    "    time = %timeit -q -o -r 1 (key in x_set)\n",
    "    results[\"Python set in\"].append(time.average)"
   ]
  },
  {
   "cell_type": "code",
   "execution_count": 46,
   "metadata": {},
   "outputs": [
    {
     "data": {
      "text/html": [
       "<div>\n",
       "<style scoped>\n",
       "    .dataframe tbody tr th:only-of-type {\n",
       "        vertical-align: middle;\n",
       "    }\n",
       "\n",
       "    .dataframe tbody tr th {\n",
       "        vertical-align: top;\n",
       "    }\n",
       "\n",
       "    .dataframe thead th {\n",
       "        text-align: right;\n",
       "    }\n",
       "</style>\n",
       "<table border=\"1\" class=\"dataframe\">\n",
       "  <thead>\n",
       "    <tr style=\"text-align: right;\">\n",
       "      <th></th>\n",
       "      <th>size</th>\n",
       "      <th>Unsorted list linear</th>\n",
       "      <th>Unsorted list in</th>\n",
       "      <th>Sorted list binary</th>\n",
       "      <th>Python set in</th>\n",
       "    </tr>\n",
       "  </thead>\n",
       "  <tbody>\n",
       "    <tr>\n",
       "      <td>0</td>\n",
       "      <td>100</td>\n",
       "      <td>0.000034</td>\n",
       "      <td>0.000004</td>\n",
       "      <td>0.000006</td>\n",
       "      <td>5.582331e-08</td>\n",
       "    </tr>\n",
       "    <tr>\n",
       "      <td>1</td>\n",
       "      <td>1000</td>\n",
       "      <td>0.000415</td>\n",
       "      <td>0.000004</td>\n",
       "      <td>0.000010</td>\n",
       "      <td>5.347178e-08</td>\n",
       "    </tr>\n",
       "    <tr>\n",
       "      <td>2</td>\n",
       "      <td>10000</td>\n",
       "      <td>0.003675</td>\n",
       "      <td>0.000010</td>\n",
       "      <td>0.000014</td>\n",
       "      <td>6.074470e-08</td>\n",
       "    </tr>\n",
       "    <tr>\n",
       "      <td>3</td>\n",
       "      <td>100000</td>\n",
       "      <td>0.036322</td>\n",
       "      <td>0.000058</td>\n",
       "      <td>0.000015</td>\n",
       "      <td>5.140548e-08</td>\n",
       "    </tr>\n",
       "    <tr>\n",
       "      <td>4</td>\n",
       "      <td>1000000</td>\n",
       "      <td>0.339844</td>\n",
       "      <td>0.000698</td>\n",
       "      <td>0.000018</td>\n",
       "      <td>4.971205e-08</td>\n",
       "    </tr>\n",
       "    <tr>\n",
       "      <td>5</td>\n",
       "      <td>10000000</td>\n",
       "      <td>3.618120</td>\n",
       "      <td>0.008774</td>\n",
       "      <td>0.000022</td>\n",
       "      <td>4.939250e-08</td>\n",
       "    </tr>\n",
       "  </tbody>\n",
       "</table>\n",
       "</div>"
      ],
      "text/plain": [
       "       size  Unsorted list linear  Unsorted list in  Sorted list binary  \\\n",
       "0       100              0.000034          0.000004            0.000006   \n",
       "1      1000              0.000415          0.000004            0.000010   \n",
       "2     10000              0.003675          0.000010            0.000014   \n",
       "3    100000              0.036322          0.000058            0.000015   \n",
       "4   1000000              0.339844          0.000698            0.000018   \n",
       "5  10000000              3.618120          0.008774            0.000022   \n",
       "\n",
       "   Python set in  \n",
       "0   5.582331e-08  \n",
       "1   5.347178e-08  \n",
       "2   6.074470e-08  \n",
       "3   5.140548e-08  \n",
       "4   4.971205e-08  \n",
       "5   4.939250e-08  "
      ]
     },
     "execution_count": 46,
     "metadata": {},
     "output_type": "execute_result"
    }
   ],
   "source": [
    "df = pd.DataFrame(results, columns=list(results.keys()))\n",
    "df"
   ]
  },
  {
   "cell_type": "code",
   "execution_count": 66,
   "metadata": {},
   "outputs": [
    {
     "data": {
      "text/plain": [
       "defaultdict(list,\n",
       "            {'size': [100, 1000, 10000, 100000, 1000000, 10000000],\n",
       "             'Unsorted list linear': [3.375583220000635e-05,\n",
       "              0.0004145909770001026,\n",
       "              0.0036748384600002737,\n",
       "              0.03632189630000084,\n",
       "              0.33984429499992075,\n",
       "              3.6181203270000424],\n",
       "             'Unsorted list in': [3.6410660100000312e-06,\n",
       "              3.967479750000393e-06,\n",
       "              1.0013853840000592e-05,\n",
       "              5.768902180000168e-05,\n",
       "              0.0006981908739999199,\n",
       "              0.008774282589999984],\n",
       "             'Sorted list binary': [6.289557300000297e-06,\n",
       "              9.616945110000189e-06,\n",
       "              1.3618646339999714e-05,\n",
       "              1.5319880480000165e-05,\n",
       "              1.831312026999967e-05,\n",
       "              2.2192620900000292e-05],\n",
       "             'Python set in': [5.5823309300001255e-08,\n",
       "              5.3471775600007734e-08,\n",
       "              6.074470309999924e-08,\n",
       "              5.140548169999875e-08,\n",
       "              4.9712052699999276e-08,\n",
       "              4.93924995000043e-08]})"
      ]
     },
     "execution_count": 66,
     "metadata": {},
     "output_type": "execute_result"
    }
   ],
   "source": [
    "results"
   ]
  },
  {
   "cell_type": "code",
   "execution_count": 49,
   "metadata": {},
   "outputs": [
    {
     "data": {
      "text/html": [
       "<div>\n",
       "<style scoped>\n",
       "    .dataframe tbody tr th:only-of-type {\n",
       "        vertical-align: middle;\n",
       "    }\n",
       "\n",
       "    .dataframe tbody tr th {\n",
       "        vertical-align: top;\n",
       "    }\n",
       "\n",
       "    .dataframe thead th {\n",
       "        text-align: right;\n",
       "    }\n",
       "</style>\n",
       "<table border=\"1\" class=\"dataframe\">\n",
       "  <thead>\n",
       "    <tr style=\"text-align: right;\">\n",
       "      <th></th>\n",
       "      <th>size</th>\n",
       "      <th>method</th>\n",
       "      <th>time (s)</th>\n",
       "    </tr>\n",
       "  </thead>\n",
       "  <tbody>\n",
       "    <tr>\n",
       "      <td>0</td>\n",
       "      <td>100</td>\n",
       "      <td>Unsorted list linear</td>\n",
       "      <td>3.375583e-05</td>\n",
       "    </tr>\n",
       "    <tr>\n",
       "      <td>1</td>\n",
       "      <td>1000</td>\n",
       "      <td>Unsorted list linear</td>\n",
       "      <td>4.145910e-04</td>\n",
       "    </tr>\n",
       "    <tr>\n",
       "      <td>2</td>\n",
       "      <td>10000</td>\n",
       "      <td>Unsorted list linear</td>\n",
       "      <td>3.674838e-03</td>\n",
       "    </tr>\n",
       "    <tr>\n",
       "      <td>3</td>\n",
       "      <td>100000</td>\n",
       "      <td>Unsorted list linear</td>\n",
       "      <td>3.632190e-02</td>\n",
       "    </tr>\n",
       "    <tr>\n",
       "      <td>4</td>\n",
       "      <td>1000000</td>\n",
       "      <td>Unsorted list linear</td>\n",
       "      <td>3.398443e-01</td>\n",
       "    </tr>\n",
       "    <tr>\n",
       "      <td>5</td>\n",
       "      <td>10000000</td>\n",
       "      <td>Unsorted list linear</td>\n",
       "      <td>3.618120e+00</td>\n",
       "    </tr>\n",
       "    <tr>\n",
       "      <td>6</td>\n",
       "      <td>100</td>\n",
       "      <td>Unsorted list in</td>\n",
       "      <td>3.641066e-06</td>\n",
       "    </tr>\n",
       "    <tr>\n",
       "      <td>7</td>\n",
       "      <td>1000</td>\n",
       "      <td>Unsorted list in</td>\n",
       "      <td>3.967480e-06</td>\n",
       "    </tr>\n",
       "    <tr>\n",
       "      <td>8</td>\n",
       "      <td>10000</td>\n",
       "      <td>Unsorted list in</td>\n",
       "      <td>1.001385e-05</td>\n",
       "    </tr>\n",
       "    <tr>\n",
       "      <td>9</td>\n",
       "      <td>100000</td>\n",
       "      <td>Unsorted list in</td>\n",
       "      <td>5.768902e-05</td>\n",
       "    </tr>\n",
       "    <tr>\n",
       "      <td>10</td>\n",
       "      <td>1000000</td>\n",
       "      <td>Unsorted list in</td>\n",
       "      <td>6.981909e-04</td>\n",
       "    </tr>\n",
       "    <tr>\n",
       "      <td>11</td>\n",
       "      <td>10000000</td>\n",
       "      <td>Unsorted list in</td>\n",
       "      <td>8.774283e-03</td>\n",
       "    </tr>\n",
       "    <tr>\n",
       "      <td>12</td>\n",
       "      <td>100</td>\n",
       "      <td>Sorted list binary</td>\n",
       "      <td>6.289557e-06</td>\n",
       "    </tr>\n",
       "    <tr>\n",
       "      <td>13</td>\n",
       "      <td>1000</td>\n",
       "      <td>Sorted list binary</td>\n",
       "      <td>9.616945e-06</td>\n",
       "    </tr>\n",
       "    <tr>\n",
       "      <td>14</td>\n",
       "      <td>10000</td>\n",
       "      <td>Sorted list binary</td>\n",
       "      <td>1.361865e-05</td>\n",
       "    </tr>\n",
       "    <tr>\n",
       "      <td>15</td>\n",
       "      <td>100000</td>\n",
       "      <td>Sorted list binary</td>\n",
       "      <td>1.531988e-05</td>\n",
       "    </tr>\n",
       "    <tr>\n",
       "      <td>16</td>\n",
       "      <td>1000000</td>\n",
       "      <td>Sorted list binary</td>\n",
       "      <td>1.831312e-05</td>\n",
       "    </tr>\n",
       "    <tr>\n",
       "      <td>17</td>\n",
       "      <td>10000000</td>\n",
       "      <td>Sorted list binary</td>\n",
       "      <td>2.219262e-05</td>\n",
       "    </tr>\n",
       "    <tr>\n",
       "      <td>18</td>\n",
       "      <td>100</td>\n",
       "      <td>Python set in</td>\n",
       "      <td>5.582331e-08</td>\n",
       "    </tr>\n",
       "    <tr>\n",
       "      <td>19</td>\n",
       "      <td>1000</td>\n",
       "      <td>Python set in</td>\n",
       "      <td>5.347178e-08</td>\n",
       "    </tr>\n",
       "    <tr>\n",
       "      <td>20</td>\n",
       "      <td>10000</td>\n",
       "      <td>Python set in</td>\n",
       "      <td>6.074470e-08</td>\n",
       "    </tr>\n",
       "    <tr>\n",
       "      <td>21</td>\n",
       "      <td>100000</td>\n",
       "      <td>Python set in</td>\n",
       "      <td>5.140548e-08</td>\n",
       "    </tr>\n",
       "    <tr>\n",
       "      <td>22</td>\n",
       "      <td>1000000</td>\n",
       "      <td>Python set in</td>\n",
       "      <td>4.971205e-08</td>\n",
       "    </tr>\n",
       "    <tr>\n",
       "      <td>23</td>\n",
       "      <td>10000000</td>\n",
       "      <td>Python set in</td>\n",
       "      <td>4.939250e-08</td>\n",
       "    </tr>\n",
       "  </tbody>\n",
       "</table>\n",
       "</div>"
      ],
      "text/plain": [
       "        size                method      time (s)\n",
       "0        100  Unsorted list linear  3.375583e-05\n",
       "1       1000  Unsorted list linear  4.145910e-04\n",
       "2      10000  Unsorted list linear  3.674838e-03\n",
       "3     100000  Unsorted list linear  3.632190e-02\n",
       "4    1000000  Unsorted list linear  3.398443e-01\n",
       "5   10000000  Unsorted list linear  3.618120e+00\n",
       "6        100      Unsorted list in  3.641066e-06\n",
       "7       1000      Unsorted list in  3.967480e-06\n",
       "8      10000      Unsorted list in  1.001385e-05\n",
       "9     100000      Unsorted list in  5.768902e-05\n",
       "10   1000000      Unsorted list in  6.981909e-04\n",
       "11  10000000      Unsorted list in  8.774283e-03\n",
       "12       100    Sorted list binary  6.289557e-06\n",
       "13      1000    Sorted list binary  9.616945e-06\n",
       "14     10000    Sorted list binary  1.361865e-05\n",
       "15    100000    Sorted list binary  1.531988e-05\n",
       "16   1000000    Sorted list binary  1.831312e-05\n",
       "17  10000000    Sorted list binary  2.219262e-05\n",
       "18       100         Python set in  5.582331e-08\n",
       "19      1000         Python set in  5.347178e-08\n",
       "20     10000         Python set in  6.074470e-08\n",
       "21    100000         Python set in  5.140548e-08\n",
       "22   1000000         Python set in  4.971205e-08\n",
       "23  10000000         Python set in  4.939250e-08"
      ]
     },
     "execution_count": 49,
     "metadata": {},
     "output_type": "execute_result"
    }
   ],
   "source": [
    "df_long = pd.melt(df, id_vars=\"size\", var_name=\"method\", value_name=\"time (s)\")\n",
    "df_long"
   ]
  },
  {
   "cell_type": "code",
   "execution_count": 51,
   "metadata": {},
   "outputs": [
    {
     "data": {
      "text/html": [
       "\n",
       "<div id=\"altair-viz-0da79cc4018a4dcbb68e7c77ee695179\"></div>\n",
       "<script type=\"text/javascript\">\n",
       "  (function(spec, embedOpt){\n",
       "    let outputDiv = document.currentScript.previousElementSibling;\n",
       "    if (outputDiv.id !== \"altair-viz-0da79cc4018a4dcbb68e7c77ee695179\") {\n",
       "      outputDiv = document.getElementById(\"altair-viz-0da79cc4018a4dcbb68e7c77ee695179\");\n",
       "    }\n",
       "    const paths = {\n",
       "      \"vega\": \"https://cdn.jsdelivr.net/npm//vega@5?noext\",\n",
       "      \"vega-lib\": \"https://cdn.jsdelivr.net/npm//vega-lib?noext\",\n",
       "      \"vega-lite\": \"https://cdn.jsdelivr.net/npm//vega-lite@4.8.1?noext\",\n",
       "      \"vega-embed\": \"https://cdn.jsdelivr.net/npm//vega-embed@6?noext\",\n",
       "    };\n",
       "\n",
       "    function loadScript(lib) {\n",
       "      return new Promise(function(resolve, reject) {\n",
       "        var s = document.createElement('script');\n",
       "        s.src = paths[lib];\n",
       "        s.async = true;\n",
       "        s.onload = () => resolve(paths[lib]);\n",
       "        s.onerror = () => reject(`Error loading script: ${paths[lib]}`);\n",
       "        document.getElementsByTagName(\"head\")[0].appendChild(s);\n",
       "      });\n",
       "    }\n",
       "\n",
       "    function showError(err) {\n",
       "      outputDiv.innerHTML = `<div class=\"error\" style=\"color:red;\">${err}</div>`;\n",
       "      throw err;\n",
       "    }\n",
       "\n",
       "    function displayChart(vegaEmbed) {\n",
       "      vegaEmbed(outputDiv, spec, embedOpt)\n",
       "        .catch(err => showError(`Javascript Error: ${err.message}<br>This usually means there's a typo in your chart specification. See the javascript console for the full traceback.`));\n",
       "    }\n",
       "\n",
       "    if(typeof define === \"function\" && define.amd) {\n",
       "      requirejs.config({paths});\n",
       "      require([\"vega-embed\"], displayChart, err => showError(`Error loading script: ${err.message}`));\n",
       "    } else if (typeof vegaEmbed === \"function\") {\n",
       "      displayChart(vegaEmbed);\n",
       "    } else {\n",
       "      loadScript(\"vega\")\n",
       "        .then(() => loadScript(\"vega-lite\"))\n",
       "        .then(() => loadScript(\"vega-embed\"))\n",
       "        .catch(showError)\n",
       "        .then(() => displayChart(vegaEmbed));\n",
       "    }\n",
       "  })({\"config\": {\"view\": {\"continuousWidth\": 400, \"continuousHeight\": 300}, \"axis\": {\"grid\": true}}, \"data\": {\"name\": \"data-7c79d27de0b1087e2f704e560dd52dd7\"}, \"mark\": \"line\", \"encoding\": {\"color\": {\"type\": \"nominal\", \"field\": \"method\"}, \"x\": {\"type\": \"quantitative\", \"field\": \"size\", \"scale\": {\"type\": \"log\"}}, \"y\": {\"type\": \"quantitative\", \"field\": \"time (s)\", \"scale\": {\"type\": \"log\"}}}, \"$schema\": \"https://vega.github.io/schema/vega-lite/v4.8.1.json\", \"datasets\": {\"data-7c79d27de0b1087e2f704e560dd52dd7\": [{\"size\": 100, \"method\": \"Unsorted list linear\", \"time (s)\": 3.375583220000635e-05}, {\"size\": 1000, \"method\": \"Unsorted list linear\", \"time (s)\": 0.0004145909770001026}, {\"size\": 10000, \"method\": \"Unsorted list linear\", \"time (s)\": 0.0036748384600002737}, {\"size\": 100000, \"method\": \"Unsorted list linear\", \"time (s)\": 0.03632189630000084}, {\"size\": 1000000, \"method\": \"Unsorted list linear\", \"time (s)\": 0.33984429499992075}, {\"size\": 10000000, \"method\": \"Unsorted list linear\", \"time (s)\": 3.6181203270000424}, {\"size\": 100, \"method\": \"Unsorted list in\", \"time (s)\": 3.6410660100000312e-06}, {\"size\": 1000, \"method\": \"Unsorted list in\", \"time (s)\": 3.967479750000393e-06}, {\"size\": 10000, \"method\": \"Unsorted list in\", \"time (s)\": 1.0013853840000592e-05}, {\"size\": 100000, \"method\": \"Unsorted list in\", \"time (s)\": 5.768902180000168e-05}, {\"size\": 1000000, \"method\": \"Unsorted list in\", \"time (s)\": 0.0006981908739999199}, {\"size\": 10000000, \"method\": \"Unsorted list in\", \"time (s)\": 0.008774282589999984}, {\"size\": 100, \"method\": \"Sorted list binary\", \"time (s)\": 6.289557300000297e-06}, {\"size\": 1000, \"method\": \"Sorted list binary\", \"time (s)\": 9.616945110000189e-06}, {\"size\": 10000, \"method\": \"Sorted list binary\", \"time (s)\": 1.3618646339999714e-05}, {\"size\": 100000, \"method\": \"Sorted list binary\", \"time (s)\": 1.5319880480000165e-05}, {\"size\": 1000000, \"method\": \"Sorted list binary\", \"time (s)\": 1.831312026999967e-05}, {\"size\": 10000000, \"method\": \"Sorted list binary\", \"time (s)\": 2.2192620900000292e-05}, {\"size\": 100, \"method\": \"Python set in\", \"time (s)\": 5.5823309300001255e-08}, {\"size\": 1000, \"method\": \"Python set in\", \"time (s)\": 5.3471775600007734e-08}, {\"size\": 10000, \"method\": \"Python set in\", \"time (s)\": 6.074470309999924e-08}, {\"size\": 100000, \"method\": \"Python set in\", \"time (s)\": 5.140548169999875e-08}, {\"size\": 1000000, \"method\": \"Python set in\", \"time (s)\": 4.9712052699999276e-08}, {\"size\": 10000000, \"method\": \"Python set in\", \"time (s)\": 4.93924995000043e-08}]}}, {\"mode\": \"vega-lite\"});\n",
       "</script>"
      ],
      "text/plain": [
       "alt.Chart(...)"
      ]
     },
     "execution_count": 51,
     "metadata": {},
     "output_type": "execute_result"
    }
   ],
   "source": [
    "df_long = pd.melt(df, id_vars=\"size\", var_name=\"method\", value_name=\"time (s)\")\n",
    "\n",
    "alt.Chart(df_long).mark_line().encode(\n",
    "    alt.X('size', scale=alt.Scale(type='log')),\n",
    "    alt.Y('time (s)', scale=alt.Scale(type='log')),\n",
    "    color='method'\n",
    ").configure_axis(grid=True)"
   ]
  },
  {
   "cell_type": "code",
   "execution_count": 54,
   "metadata": {},
   "outputs": [
    {
     "data": {
      "text/html": [
       "\n",
       "<div id=\"altair-viz-0e9bd6dac23447a1943687d8172e271f\"></div>\n",
       "<script type=\"text/javascript\">\n",
       "  (function(spec, embedOpt){\n",
       "    let outputDiv = document.currentScript.previousElementSibling;\n",
       "    if (outputDiv.id !== \"altair-viz-0e9bd6dac23447a1943687d8172e271f\") {\n",
       "      outputDiv = document.getElementById(\"altair-viz-0e9bd6dac23447a1943687d8172e271f\");\n",
       "    }\n",
       "    const paths = {\n",
       "      \"vega\": \"https://cdn.jsdelivr.net/npm//vega@5?noext\",\n",
       "      \"vega-lib\": \"https://cdn.jsdelivr.net/npm//vega-lib?noext\",\n",
       "      \"vega-lite\": \"https://cdn.jsdelivr.net/npm//vega-lite@4.8.1?noext\",\n",
       "      \"vega-embed\": \"https://cdn.jsdelivr.net/npm//vega-embed@6?noext\",\n",
       "    };\n",
       "\n",
       "    function loadScript(lib) {\n",
       "      return new Promise(function(resolve, reject) {\n",
       "        var s = document.createElement('script');\n",
       "        s.src = paths[lib];\n",
       "        s.async = true;\n",
       "        s.onload = () => resolve(paths[lib]);\n",
       "        s.onerror = () => reject(`Error loading script: ${paths[lib]}`);\n",
       "        document.getElementsByTagName(\"head\")[0].appendChild(s);\n",
       "      });\n",
       "    }\n",
       "\n",
       "    function showError(err) {\n",
       "      outputDiv.innerHTML = `<div class=\"error\" style=\"color:red;\">${err}</div>`;\n",
       "      throw err;\n",
       "    }\n",
       "\n",
       "    function displayChart(vegaEmbed) {\n",
       "      vegaEmbed(outputDiv, spec, embedOpt)\n",
       "        .catch(err => showError(`Javascript Error: ${err.message}<br>This usually means there's a typo in your chart specification. See the javascript console for the full traceback.`));\n",
       "    }\n",
       "\n",
       "    if(typeof define === \"function\" && define.amd) {\n",
       "      requirejs.config({paths});\n",
       "      require([\"vega-embed\"], displayChart, err => showError(`Error loading script: ${err.message}`));\n",
       "    } else if (typeof vegaEmbed === \"function\") {\n",
       "      displayChart(vegaEmbed);\n",
       "    } else {\n",
       "      loadScript(\"vega\")\n",
       "        .then(() => loadScript(\"vega-lite\"))\n",
       "        .then(() => loadScript(\"vega-embed\"))\n",
       "        .catch(showError)\n",
       "        .then(() => displayChart(vegaEmbed));\n",
       "    }\n",
       "  })({\"config\": {\"view\": {\"continuousWidth\": 400, \"continuousHeight\": 300}, \"axis\": {\"grid\": false}}, \"data\": {\"name\": \"data-bbd7d3d496c20cd231fafc620eeb2604\"}, \"mark\": \"line\", \"encoding\": {\"color\": {\"type\": \"nominal\", \"field\": \"method\"}, \"x\": {\"type\": \"quantitative\", \"field\": \"size\", \"scale\": {\"type\": \"log\"}}, \"y\": {\"type\": \"quantitative\", \"field\": \"time (s)\"}}, \"$schema\": \"https://vega.github.io/schema/vega-lite/v4.8.1.json\", \"datasets\": {\"data-bbd7d3d496c20cd231fafc620eeb2604\": [{\"size\": 100, \"method\": \"Sorted list binary\", \"time (s)\": 6.289557300000297e-06}, {\"size\": 1000, \"method\": \"Sorted list binary\", \"time (s)\": 9.616945110000189e-06}, {\"size\": 10000, \"method\": \"Sorted list binary\", \"time (s)\": 1.3618646339999714e-05}, {\"size\": 100000, \"method\": \"Sorted list binary\", \"time (s)\": 1.5319880480000165e-05}, {\"size\": 1000000, \"method\": \"Sorted list binary\", \"time (s)\": 1.831312026999967e-05}, {\"size\": 10000000, \"method\": \"Sorted list binary\", \"time (s)\": 2.2192620900000292e-05}, {\"size\": 100, \"method\": \"Python set in\", \"time (s)\": 5.5823309300001255e-08}, {\"size\": 1000, \"method\": \"Python set in\", \"time (s)\": 5.3471775600007734e-08}, {\"size\": 10000, \"method\": \"Python set in\", \"time (s)\": 6.074470309999924e-08}, {\"size\": 100000, \"method\": \"Python set in\", \"time (s)\": 5.140548169999875e-08}, {\"size\": 1000000, \"method\": \"Python set in\", \"time (s)\": 4.9712052699999276e-08}, {\"size\": 10000000, \"method\": \"Python set in\", \"time (s)\": 4.93924995000043e-08}]}}, {\"mode\": \"vega-lite\"});\n",
       "</script>"
      ],
      "text/plain": [
       "alt.Chart(...)"
      ]
     },
     "execution_count": 54,
     "metadata": {},
     "output_type": "execute_result"
    }
   ],
   "source": [
    "df_long = pd.melt(df[[\"size\", \"Sorted list binary\", \"Python set in\"]],\n",
    "                  id_vars=\"size\", var_name=\"method\", value_name=\"time (s)\")\n",
    "\n",
    "alt.Chart(df_long).mark_line().encode(\n",
    "    alt.X('size', scale=alt.Scale(type='log')),\n",
    "    alt.Y('time (s)'),\n",
    "    color='method'\n",
    ").configure_axis(grid=False)"
   ]
  },
  {
   "cell_type": "code",
   "execution_count": 61,
   "metadata": {},
   "outputs": [],
   "source": [
    "def insertion_sort(data): #o(n2)\n",
    "    for i in range(len(data)): #o(n)\n",
    "        minimum_index = np.argmin(data[i:]) + i # o(n)\n",
    "        data[i], data[minimum_index] = data[minimum_index], data[i]\n",
    "    return data"
   ]
  },
  {
   "cell_type": "code",
   "execution_count": 62,
   "metadata": {},
   "outputs": [
    {
     "name": "stdout",
     "output_type": "stream",
     "text": [
      "1\n",
      "7\n",
      "35\n",
      "45\n",
      "67\n"
     ]
    },
    {
     "data": {
      "text/plain": [
       "[1, 7, 35, 45, 67]"
      ]
     },
     "execution_count": 62,
     "metadata": {},
     "output_type": "execute_result"
    }
   ],
   "source": [
    "insertion_sort([7, 1, 67, 35, 45])"
   ]
  },
  {
   "cell_type": "code",
   "execution_count": 68,
   "metadata": {},
   "outputs": [],
   "source": [
    "class HashTable:\n",
    "    def __init__(self, num_of_buckets=4): # default=4 buckets\n",
    "        self.stuff = list()\n",
    "        self.n = num_of_buckets\n",
    "        \n",
    "        for i in range(num_of_buckets):\n",
    "            self.stuff.append([])\n",
    "    \n",
    "    def add(self, item):\n",
    "        if not self.contains(item):\n",
    "            self.stuff[hash(item) % self.n].append(item)     \n",
    "        \n",
    "    def contains(self, item):\n",
    "        return item in self.stuff[hash(item) % self.n]\n",
    "        \n",
    "    def __str__(self):\n",
    "        return str(self.stuff)"
   ]
  },
  {
   "cell_type": "code",
   "execution_count": 69,
   "metadata": {},
   "outputs": [
    {
     "name": "stdout",
     "output_type": "stream",
     "text": [
      "[[], [], [], []]\n"
     ]
    }
   ],
   "source": [
    "ht = HashTable()\n",
    "print(ht)"
   ]
  },
  {
   "cell_type": "code",
   "execution_count": 70,
   "metadata": {},
   "outputs": [
    {
     "name": "stdout",
     "output_type": "stream",
     "text": [
      "[[], [], ['hello'], []]\n"
     ]
    }
   ],
   "source": [
    "ht.add('hello')\n",
    "print(ht)"
   ]
  },
  {
   "cell_type": "code",
   "execution_count": 72,
   "metadata": {},
   "outputs": [
    {
     "data": {
      "text/plain": [
       "6265578044980828610"
      ]
     },
     "execution_count": 72,
     "metadata": {},
     "output_type": "execute_result"
    }
   ],
   "source": [
    "hash('hello')"
   ]
  },
  {
   "cell_type": "code",
   "execution_count": 75,
   "metadata": {},
   "outputs": [
    {
     "data": {
      "text/plain": [
       "2"
      ]
     },
     "execution_count": 75,
     "metadata": {},
     "output_type": "execute_result"
    }
   ],
   "source": [
    "hash('hello')%4"
   ]
  },
  {
   "cell_type": "code",
   "execution_count": 76,
   "metadata": {},
   "outputs": [
    {
     "name": "stdout",
     "output_type": "stream",
     "text": [
      "[[], [], ['hello'], ['goodbye']]\n"
     ]
    }
   ],
   "source": [
    "ht.add(\"goodbye\")\n",
    "print(ht)"
   ]
  },
  {
   "cell_type": "code",
   "execution_count": 77,
   "metadata": {},
   "outputs": [
    {
     "name": "stdout",
     "output_type": "stream",
     "text": [
      "[['test'], [], ['hello'], ['goodbye']]\n"
     ]
    }
   ],
   "source": [
    "ht.add(\"test\")\n",
    "print(ht)"
   ]
  },
  {
   "cell_type": "code",
   "execution_count": 78,
   "metadata": {},
   "outputs": [
    {
     "name": "stdout",
     "output_type": "stream",
     "text": [
      "[['test', 'item'], [], ['hello'], ['goodbye']]\n"
     ]
    }
   ],
   "source": [
    "ht.add(\"item\")\n",
    "print(ht)"
   ]
  },
  {
   "cell_type": "code",
   "execution_count": null,
   "metadata": {},
   "outputs": [],
   "source": []
  }
 ],
 "metadata": {
  "kernelspec": {
   "display_name": "Python 3",
   "language": "python",
   "name": "python3"
  },
  "language_info": {
   "codemirror_mode": {
    "name": "ipython",
    "version": 3
   },
   "file_extension": ".py",
   "mimetype": "text/x-python",
   "name": "python",
   "nbconvert_exporter": "python",
   "pygments_lexer": "ipython3",
   "version": "3.7.4"
  }
 },
 "nbformat": 4,
 "nbformat_minor": 2
}
