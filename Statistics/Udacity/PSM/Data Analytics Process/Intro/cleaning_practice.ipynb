{
 "cells": [
  {
   "cell_type": "markdown",
   "metadata": {},
   "source": [
    "# Cleaning Practice\n",
    "Let's first practice handling missing values and duplicate data using the `cancer_data_means.csv` file, which you created and saved in the \"Assessing and Building Intuition\" notebook a few pages back. If you created this CSV file in that notebook, it should still be available in this workspace for you to load into the notebook here."
   ]
  },
  {
   "cell_type": "code",
   "execution_count": 12,
   "metadata": {},
   "outputs": [
    {
     "name": "stdout",
     "output_type": "stream",
     "text": [
      "<class 'pandas.core.frame.DataFrame'>\n",
      "RangeIndex: 569 entries, 0 to 568\n",
      "Data columns (total 32 columns):\n",
      "id                        569 non-null int64\n",
      "diagnosis                 569 non-null object\n",
      "radius_mean               569 non-null float64\n",
      "texture_mean              548 non-null float64\n",
      "perimeter_mean            569 non-null float64\n",
      "area_mean                 569 non-null float64\n",
      "smoothness_mean           521 non-null float64\n",
      "compactness_mean          569 non-null float64\n",
      "concavity_mean            569 non-null float64\n",
      "concave_points_mean       569 non-null float64\n",
      "symmetry_mean             504 non-null float64\n",
      "fractal_dimension_mean    569 non-null float64\n",
      "radius_SE                 569 non-null float64\n",
      "texture_SE                548 non-null float64\n",
      "perimeter_SE              569 non-null float64\n",
      "area_SE                   569 non-null float64\n",
      "smoothness_SE             521 non-null float64\n",
      "compactness_SE            569 non-null float64\n",
      "concavity_SE              569 non-null float64\n",
      "concave_points_SE         569 non-null float64\n",
      "symmetry_SE               504 non-null float64\n",
      "fractal_dimension_SE      569 non-null float64\n",
      "radius_max                569 non-null float64\n",
      "texture_max               548 non-null float64\n",
      "perimeter_max             569 non-null float64\n",
      "area_max                  569 non-null float64\n",
      "smoothness_max            521 non-null float64\n",
      "compactness_max           569 non-null float64\n",
      "concavity_max             569 non-null float64\n",
      "concave_points_max        569 non-null float64\n",
      "symmetry_max              504 non-null float64\n",
      "fractal_dimension_max     569 non-null float64\n",
      "dtypes: float64(30), int64(1), object(1)\n",
      "memory usage: 142.3+ KB\n"
     ]
    }
   ],
   "source": [
    "# import pandas and load cancer data\n",
    "import pandas as pd\n",
    "import numpy as np\n",
    "\n",
    "df = pd.read_csv('cancer_data.csv')\n",
    "df.head()\n",
    "# check which columns have missing values with info()\n",
    "df.info()"
   ]
  },
  {
   "cell_type": "code",
   "execution_count": 13,
   "metadata": {
    "collapsed": true
   },
   "outputs": [
    {
     "name": "stdout",
     "output_type": "stream",
     "text": [
      "<class 'pandas.core.frame.DataFrame'>\n",
      "RangeIndex: 569 entries, 0 to 568\n",
      "Data columns (total 32 columns):\n",
      "id                        569 non-null int64\n",
      "diagnosis                 569 non-null object\n",
      "radius_mean               569 non-null float64\n",
      "texture_mean              569 non-null float64\n",
      "perimeter_mean            569 non-null float64\n",
      "area_mean                 569 non-null float64\n",
      "smoothness_mean           521 non-null float64\n",
      "compactness_mean          569 non-null float64\n",
      "concavity_mean            569 non-null float64\n",
      "concave_points_mean       569 non-null float64\n",
      "symmetry_mean             504 non-null float64\n",
      "fractal_dimension_mean    569 non-null float64\n",
      "radius_SE                 569 non-null float64\n",
      "texture_SE                548 non-null float64\n",
      "perimeter_SE              569 non-null float64\n",
      "area_SE                   569 non-null float64\n",
      "smoothness_SE             521 non-null float64\n",
      "compactness_SE            569 non-null float64\n",
      "concavity_SE              569 non-null float64\n",
      "concave_points_SE         569 non-null float64\n",
      "symmetry_SE               504 non-null float64\n",
      "fractal_dimension_SE      569 non-null float64\n",
      "radius_max                569 non-null float64\n",
      "texture_max               548 non-null float64\n",
      "perimeter_max             569 non-null float64\n",
      "area_max                  569 non-null float64\n",
      "smoothness_max            521 non-null float64\n",
      "compactness_max           569 non-null float64\n",
      "concavity_max             569 non-null float64\n",
      "concave_points_max        569 non-null float64\n",
      "symmetry_max              504 non-null float64\n",
      "fractal_dimension_max     569 non-null float64\n",
      "dtypes: float64(30), int64(1), object(1)\n",
      "memory usage: 142.3+ KB\n"
     ]
    }
   ],
   "source": [
    "# use means to fill in missing values\n",
    "df['texture_mean'].fillna(np.mean(df['texture_mean']),inplace=True)\n",
    "# confirm your correction with info()\n",
    "df.info()"
   ]
  },
  {
   "cell_type": "code",
   "execution_count": 8,
   "metadata": {},
   "outputs": [
    {
     "data": {
      "text/plain": [
       "5"
      ]
     },
     "execution_count": 8,
     "metadata": {},
     "output_type": "execute_result"
    }
   ],
   "source": [
    "# check for duplicates in the data\n",
    "sum(df.duplicated())"
   ]
  },
  {
   "cell_type": "code",
   "execution_count": 10,
   "metadata": {},
   "outputs": [],
   "source": [
    "# drop duplicates\n",
    "df.drop_duplicates(inplace=True)"
   ]
  },
  {
   "cell_type": "code",
   "execution_count": 11,
   "metadata": {},
   "outputs": [
    {
     "data": {
      "text/plain": [
       "0"
      ]
     },
     "execution_count": 11,
     "metadata": {},
     "output_type": "execute_result"
    }
   ],
   "source": [
    "# confirm correction by rechecking for duplicates in the data\n",
    "sum(df.duplicated())"
   ]
  },
  {
   "cell_type": "markdown",
   "metadata": {},
   "source": [
    "## Renaming Columns\n",
    "Since we also previously changed our dataset to only include means of tumor features, the \"_mean\" at the end of each feature seems unnecessary. It just takes extra time to type in our analysis later. Let's come up with a list of new labels to assign to our columns."
   ]
  },
  {
   "cell_type": "code",
   "execution_count": null,
   "metadata": {
    "collapsed": true
   },
   "outputs": [],
   "source": [
    "# remove \"_mean\" from column names\n",
    "new_labels = []\n",
    "for col in df.columns:\n",
    "    if '_mean' in col:\n",
    "        new_labels.append(col[:-5])  # exclude last 6 characters\n",
    "    else:\n",
    "        new_labels.append(col)\n",
    "\n",
    "# new labels for our columns\n",
    "new_labels"
   ]
  },
  {
   "cell_type": "code",
   "execution_count": null,
   "metadata": {
    "collapsed": true
   },
   "outputs": [],
   "source": [
    "# assign new labels to columns in dataframe\n",
    "df.columns = new_labels\n",
    "\n",
    "# display first few rows of dataframe to confirm changes\n",
    "df.head()"
   ]
  },
  {
   "cell_type": "code",
   "execution_count": null,
   "metadata": {
    "collapsed": true
   },
   "outputs": [],
   "source": [
    "# save this for later\n",
    "df.to_csv('cancer_data_edited.csv', index=False)"
   ]
  },
  {
   "cell_type": "code",
   "execution_count": null,
   "metadata": {
    "collapsed": true
   },
   "outputs": [],
   "source": []
  }
 ],
 "metadata": {
  "kernelspec": {
   "display_name": "Python 3",
   "language": "python",
   "name": "python3"
  },
  "language_info": {
   "codemirror_mode": {
    "name": "ipython",
    "version": 3
   },
   "file_extension": ".py",
   "mimetype": "text/x-python",
   "name": "python",
   "nbconvert_exporter": "python",
   "pygments_lexer": "ipython3",
   "version": "3.6.3"
  }
 },
 "nbformat": 4,
 "nbformat_minor": 2
}
