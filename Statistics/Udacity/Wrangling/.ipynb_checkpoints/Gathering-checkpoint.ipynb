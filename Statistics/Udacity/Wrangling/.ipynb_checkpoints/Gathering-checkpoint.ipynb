{
 "cells": [
  {
   "cell_type": "markdown",
   "metadata": {},
   "source": [
    "#### Wrangling\n",
    "- Gather\n",
    "- Assess\n",
    "- Clean"
   ]
  },
  {
   "cell_type": "markdown",
   "metadata": {},
   "source": [
    "##### https://www.rottentomatoes.com/top/bestofrt/\n",
    "##### https://www.rogerebert.com/\n",
    "##### https://amueller.github.io/word_cloud/\n",
    "##### https://computers.tutsplus.com/tutorials/navigating-the-terminal-a-gentle-introduction--mac-3855\n",
    "##### https://www.udacity.com/course/linux-command-line-basics--ud595\n",
    "##### https://professor-excel.com/xml-zip-excel-file-structure/\n",
    "##### https://pandas.pydata.org/pandas-docs/stable/api.html#flat-file\n",
    "##### https://medium.com/towards-data-science/ethics-in-web-scraping-b96b18136f01\n",
    "##### https://twitter.com/venturidb/status/734757220525715456\n",
    "##### https://stackoverflow.com/questions/19508442/beautiful-soup-and-unicode-problems\n",
    "##### https://stackoverflow.com/questions/10993612/python-removing-xa0-from-string\n",
    "##### https://www.crummy.com/software/BeautifulSoup/"
   ]
  },
  {
   "cell_type": "markdown",
   "metadata": {},
   "source": [
    "- Flat files contain tabular data in plain text format with one data record per line and each record or line having one or more fields. These fields are separated by delimiters, like commas, tabs, or colons."
   ]
  },
  {
   "cell_type": "code",
   "execution_count": 1,
   "metadata": {},
   "outputs": [],
   "source": [
    "import pandas as pd"
   ]
  },
  {
   "cell_type": "code",
   "execution_count": 2,
   "metadata": {},
   "outputs": [],
   "source": [
    "df = pd.read_csv('../data/bestofrt.tsv',sep='\\t')"
   ]
  },
  {
   "cell_type": "code",
   "execution_count": 3,
   "metadata": {},
   "outputs": [
    {
     "data": {
      "text/html": [
       "<div>\n",
       "<style scoped>\n",
       "    .dataframe tbody tr th:only-of-type {\n",
       "        vertical-align: middle;\n",
       "    }\n",
       "\n",
       "    .dataframe tbody tr th {\n",
       "        vertical-align: top;\n",
       "    }\n",
       "\n",
       "    .dataframe thead th {\n",
       "        text-align: right;\n",
       "    }\n",
       "</style>\n",
       "<table border=\"1\" class=\"dataframe\">\n",
       "  <thead>\n",
       "    <tr style=\"text-align: right;\">\n",
       "      <th></th>\n",
       "      <th>ranking</th>\n",
       "      <th>critic_score</th>\n",
       "      <th>title</th>\n",
       "      <th>number_of_critic_ratings</th>\n",
       "    </tr>\n",
       "  </thead>\n",
       "  <tbody>\n",
       "    <tr>\n",
       "      <td>0</td>\n",
       "      <td>1</td>\n",
       "      <td>99</td>\n",
       "      <td>The Wizard of Oz (1939)</td>\n",
       "      <td>110</td>\n",
       "    </tr>\n",
       "    <tr>\n",
       "      <td>1</td>\n",
       "      <td>2</td>\n",
       "      <td>100</td>\n",
       "      <td>Citizen Kane (1941)</td>\n",
       "      <td>75</td>\n",
       "    </tr>\n",
       "    <tr>\n",
       "      <td>2</td>\n",
       "      <td>3</td>\n",
       "      <td>100</td>\n",
       "      <td>The Third Man (1949)</td>\n",
       "      <td>77</td>\n",
       "    </tr>\n",
       "    <tr>\n",
       "      <td>3</td>\n",
       "      <td>4</td>\n",
       "      <td>99</td>\n",
       "      <td>Get Out (2017)</td>\n",
       "      <td>282</td>\n",
       "    </tr>\n",
       "    <tr>\n",
       "      <td>4</td>\n",
       "      <td>5</td>\n",
       "      <td>97</td>\n",
       "      <td>Mad Max: Fury Road (2015)</td>\n",
       "      <td>370</td>\n",
       "    </tr>\n",
       "  </tbody>\n",
       "</table>\n",
       "</div>"
      ],
      "text/plain": [
       "   ranking  critic_score                      title  number_of_critic_ratings\n",
       "0        1            99    The Wizard of Oz (1939)                       110\n",
       "1        2           100        Citizen Kane (1941)                        75\n",
       "2        3           100       The Third Man (1949)                        77\n",
       "3        4            99             Get Out (2017)                       282\n",
       "4        5            97  Mad Max: Fury Road (2015)                       370"
      ]
     },
     "execution_count": 3,
     "metadata": {},
     "output_type": "execute_result"
    }
   ],
   "source": [
    "df.head()"
   ]
  },
  {
   "cell_type": "markdown",
   "metadata": {},
   "source": [
    "##### Finding/Matching some string in a data\n",
    "- using str.find()\n",
    "- Regular Expressions\n",
    "- Beautiful soup"
   ]
  },
  {
   "cell_type": "code",
   "execution_count": 129,
   "metadata": {},
   "outputs": [],
   "source": [
    "from bs4 import BeautifulSoup\n",
    "import os"
   ]
  },
  {
   "cell_type": "code",
   "execution_count": 130,
   "metadata": {},
   "outputs": [],
   "source": [
    "# with open('../data/rt_html/et_the_extraterrestrial.html') as file:\n",
    "#     soup = BeautifulSoup(file,'lxml')"
   ]
  },
  {
   "cell_type": "code",
   "execution_count": 131,
   "metadata": {
    "scrolled": true
   },
   "outputs": [],
   "source": [
    "#soup.find('title')"
   ]
  },
  {
   "cell_type": "code",
   "execution_count": 132,
   "metadata": {},
   "outputs": [],
   "source": [
    "#soup.find('').contents[0][:-len(' - Rotten Tomatoes')]"
   ]
  },
  {
   "cell_type": "code",
   "execution_count": 128,
   "metadata": {},
   "outputs": [
    {
     "data": {
      "text/html": [
       "<div>\n",
       "<style scoped>\n",
       "    .dataframe tbody tr th:only-of-type {\n",
       "        vertical-align: middle;\n",
       "    }\n",
       "\n",
       "    .dataframe tbody tr th {\n",
       "        vertical-align: top;\n",
       "    }\n",
       "\n",
       "    .dataframe thead th {\n",
       "        text-align: right;\n",
       "    }\n",
       "</style>\n",
       "<table border=\"1\" class=\"dataframe\">\n",
       "  <thead>\n",
       "    <tr style=\"text-align: right;\">\n",
       "      <th></th>\n",
       "      <th>title</th>\n",
       "      <th>audience_score</th>\n",
       "      <th>number_of_audience_ratings</th>\n",
       "    </tr>\n",
       "  </thead>\n",
       "  <tbody>\n",
       "    <tr>\n",
       "      <td>0</td>\n",
       "      <td>Zootopia (2016)</td>\n",
       "      <td>92</td>\n",
       "      <td>98633</td>\n",
       "    </tr>\n",
       "    <tr>\n",
       "      <td>1</td>\n",
       "      <td>The Treasure of the Sierra Madre (1948)</td>\n",
       "      <td>93</td>\n",
       "      <td>25627</td>\n",
       "    </tr>\n",
       "    <tr>\n",
       "      <td>2</td>\n",
       "      <td>All Quiet on the Western Front (1930)</td>\n",
       "      <td>89</td>\n",
       "      <td>17768</td>\n",
       "    </tr>\n",
       "    <tr>\n",
       "      <td>3</td>\n",
       "      <td>Rear Window (1954)</td>\n",
       "      <td>95</td>\n",
       "      <td>149458</td>\n",
       "    </tr>\n",
       "    <tr>\n",
       "      <td>4</td>\n",
       "      <td>Selma (2015)</td>\n",
       "      <td>86</td>\n",
       "      <td>60533</td>\n",
       "    </tr>\n",
       "  </tbody>\n",
       "</table>\n",
       "</div>"
      ],
      "text/plain": [
       "                                     title  audience_score  \\\n",
       "0                          Zootopia (2016)              92   \n",
       "1  The Treasure of the Sierra Madre (1948)              93   \n",
       "2    All Quiet on the Western Front (1930)              89   \n",
       "3                       Rear Window (1954)              95   \n",
       "4                             Selma (2015)              86   \n",
       "\n",
       "   number_of_audience_ratings  \n",
       "0                       98633  \n",
       "1                       25627  \n",
       "2                       17768  \n",
       "3                      149458  \n",
       "4                       60533  "
      ]
     },
     "execution_count": 128,
     "metadata": {},
     "output_type": "execute_result"
    }
   ],
   "source": [
    "df_list = []\n",
    "folder_path = '../data/rt_html/'\n",
    "for html_file in os.listdir(folder_path):\n",
    "    with open(os.path.join(folder_path,html_file)) as file:\n",
    "        soup = BeautifulSoup(file,'lxml')\n",
    "        title = soup.find('title').contents[0][:-len(' - Rotten Tomatoes')]\n",
    "        audience_score = soup.find('div',class_='audience-score meter').find('span').contents[0].replace('%','')\n",
    "        num_audience_ratings = soup.find('div',class_='audience-info hidden-xs superPageFontColor').find_all('div')[1].contents[2].strip().replace(',','')\n",
    "        #print(title)\n",
    "        #print(audience_score)\n",
    "        #print(num_audience_ratings)\n",
    "        df_list.append({'title':title,'audience_score':int(audience_score),'number_of_audience_ratings':int(num_audience_ratings)})\n",
    "        #break\n",
    "    \n",
    "#os.listdir('../data/rt_html')\n",
    "df = pd.DataFrame(df_list,columns=['title','audience_score','number_of_audience_ratings'])\n",
    "df.head()"
   ]
  },
  {
   "cell_type": "code",
   "execution_count": 133,
   "metadata": {},
   "outputs": [],
   "source": [
    "# os.path.join(folder_path, 'et_the_extraterrestrial.html')\n",
    "# soup.find('div',class_='audience-score meter').find('span').contents[0]"
   ]
  },
  {
   "cell_type": "code",
   "execution_count": 134,
   "metadata": {},
   "outputs": [],
   "source": [
    "# soup.find('div',class_='audience-info hidden-xs superPageFontColor').find_all('div')[1].contents[2].strip().replace(',','')"
   ]
  },
  {
   "cell_type": "code",
   "execution_count": 135,
   "metadata": {},
   "outputs": [],
   "source": [
    "# df_list = []\n",
    "# df_list.append({1:'a',2:'b'})\n",
    "# pd.DataFrame(df_list)"
   ]
  },
  {
   "cell_type": "code",
   "execution_count": 136,
   "metadata": {},
   "outputs": [],
   "source": [
    "# df_list = []\n",
    "# folder_path = '../data/rt_html/'\n",
    "# for html_file in os.listdir(folder_path):\n",
    "#     with open(os.path.join(folder_path,html_file)) as file:\n",
    "#         print(file)"
   ]
  },
  {
   "cell_type": "code",
   "execution_count": 137,
   "metadata": {},
   "outputs": [],
   "source": [
    "#next task : separate the year and add it as a new column"
   ]
  },
  {
   "cell_type": "code",
   "execution_count": null,
   "metadata": {},
   "outputs": [],
   "source": []
  }
 ],
 "metadata": {
  "kernelspec": {
   "display_name": "Python 3",
   "language": "python",
   "name": "python3"
  },
  "language_info": {
   "codemirror_mode": {
    "name": "ipython",
    "version": 3
   },
   "file_extension": ".py",
   "mimetype": "text/x-python",
   "name": "python",
   "nbconvert_exporter": "python",
   "pygments_lexer": "ipython3",
   "version": "3.7.4"
  }
 },
 "nbformat": 4,
 "nbformat_minor": 2
}
