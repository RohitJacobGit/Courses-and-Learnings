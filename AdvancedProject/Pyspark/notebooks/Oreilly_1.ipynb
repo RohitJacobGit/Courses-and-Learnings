{
 "cells": [
  {
   "cell_type": "markdown",
   "metadata": {},
   "source": [
    "https://github.com/jleetutorial/python-spark-tutorial/blob/master/rdd/WordCount.py"
   ]
  },
  {
   "cell_type": "markdown",
   "metadata": {},
   "source": [
    "https://learning.oreilly.com/videos/apache-spark-with/9781789133394/9781789133394-video1_5?autoplay=false"
   ]
  },
  {
   "cell_type": "code",
   "execution_count": 8,
   "metadata": {},
   "outputs": [],
   "source": [
    "from pyspark import SparkContext, SQLContext, SparkConf"
   ]
  },
  {
   "cell_type": "code",
   "execution_count": 9,
   "metadata": {},
   "outputs": [],
   "source": [
    "conf = SparkConf().setAppName('Word Count').setMaster('local[2]')\n",
    "sc = SparkContext(conf=conf)"
   ]
  },
  {
   "cell_type": "code",
   "execution_count": 16,
   "metadata": {
    "collapsed": true,
    "tags": []
   },
   "outputs": [
    {
     "output_type": "stream",
     "name": "stdout",
     "text": "&lt;bound method RDD.values of PythonRDD[19] at RDD at PythonRDD.scala:53&gt;\n"
    }
   ],
   "source": [
    "\n",
    "lines = sc.textFile('word_count.txt')\n",
    "\n",
    "words = lines.filter(lambda line: line.split(',')[3]==\"\\\"United States\\\"\")\n",
    "\n",
    "print(words.values)"
   ]
  },
  {
   "cell_type": "markdown",
   "metadata": {},
   "source": [
    "to run a script\n",
    "    - spark-submit file.py"
   ]
  },
  {
   "cell_type": "code",
   "execution_count": 7,
   "metadata": {},
   "outputs": [],
   "source": [
    "sc.stop()"
   ]
  },
  {
   "cell_type": "code",
   "execution_count": 1,
   "metadata": {},
   "outputs": [],
   "source": [
    "#transformation: map filter\n",
    "#action: aggregate and group by"
   ]
  },
  {
   "cell_type": "code",
   "execution_count": 5,
   "metadata": {},
   "outputs": [],
   "source": [
    "input_ints = list(range(1,6))\n",
    "ints_rdd = sc.parallelize(input_ints) # loads the whole file in petabytes which is not recommended"
   ]
  },
  {
   "cell_type": "code",
   "execution_count": 6,
   "metadata": {},
   "outputs": [
    {
     "output_type": "execute_result",
     "data": {
      "text/plain": "ParallelCollectionRDD[3] at readRDDFromFile at PythonRDD.scala:262"
     },
     "metadata": {},
     "execution_count": 6
    }
   ],
   "source": [
    "ints_rdd"
   ]
  },
  {
   "cell_type": "code",
   "execution_count": null,
   "metadata": {},
   "outputs": [],
   "source": []
  }
 ],
 "metadata": {
  "kernelspec": {
   "display_name": "Python 3",
   "language": "python",
   "name": "python3"
  },
  "language_info": {
   "codemirror_mode": {
    "name": "ipython",
    "version": 3
   },
   "file_extension": ".py",
   "mimetype": "text/x-python",
   "name": "python",
   "nbconvert_exporter": "python",
   "pygments_lexer": "ipython3",
   "version": "3.7.4-final"
  }
 },
 "nbformat": 4,
 "nbformat_minor": 2
}